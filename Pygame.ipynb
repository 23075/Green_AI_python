{
 "cells": [
  {
   "cell_type": "code",
   "execution_count": 1,
   "id": "06e144e7",
   "metadata": {},
   "outputs": [
    {
     "name": "stdout",
     "output_type": "stream",
     "text": [
      "Collecting pygame\n",
      "  Downloading pygame-2.6.1-cp311-cp311-win_amd64.whl.metadata (13 kB)\n",
      "Downloading pygame-2.6.1-cp311-cp311-win_amd64.whl (10.6 MB)\n",
      "   ---------------------------------------- 0.0/10.6 MB ? eta -:--:--\n",
      "   --- ------------------------------------ 1.0/10.6 MB 7.2 MB/s eta 0:00:02\n",
      "   ---------- ----------------------------- 2.9/10.6 MB 8.0 MB/s eta 0:00:01\n",
      "   ----------------- ---------------------- 4.7/10.6 MB 8.2 MB/s eta 0:00:01\n",
      "   --------------------- ------------------ 5.8/10.6 MB 7.5 MB/s eta 0:00:01\n",
      "   ----------------------- ---------------- 6.3/10.6 MB 6.8 MB/s eta 0:00:01\n",
      "   ------------------------- -------------- 6.8/10.6 MB 6.0 MB/s eta 0:00:01\n",
      "   --------------------------- ------------ 7.3/10.6 MB 5.5 MB/s eta 0:00:01\n",
      "   ------------------------------ --------- 8.1/10.6 MB 4.9 MB/s eta 0:00:01\n",
      "   ------------------------------- -------- 8.4/10.6 MB 4.7 MB/s eta 0:00:01\n",
      "   -------------------------------- ------- 8.7/10.6 MB 4.4 MB/s eta 0:00:01\n",
      "   -------------------------------- ------- 8.7/10.6 MB 4.4 MB/s eta 0:00:01\n",
      "   -------------------------------- ------- 8.7/10.6 MB 4.4 MB/s eta 0:00:01\n",
      "   -------------------------------- ------- 8.7/10.6 MB 4.4 MB/s eta 0:00:01\n",
      "   --------------------------------- ------ 8.9/10.6 MB 3.2 MB/s eta 0:00:01\n",
      "   ---------------------------------- ----- 9.2/10.6 MB 2.9 MB/s eta 0:00:01\n",
      "   ---------------------------------- ----- 9.2/10.6 MB 2.9 MB/s eta 0:00:01\n",
      "   ----------------------------------- ---- 9.4/10.6 MB 2.8 MB/s eta 0:00:01\n",
      "   ------------------------------------ --- 9.7/10.6 MB 2.6 MB/s eta 0:00:01\n",
      "   ------------------------------------- -- 10.0/10.6 MB 2.5 MB/s eta 0:00:01\n",
      "   -------------------------------------- - 10.2/10.6 MB 2.4 MB/s eta 0:00:01\n",
      "   ---------------------------------------  10.5/10.6 MB 2.4 MB/s eta 0:00:01\n",
      "   ---------------------------------------- 10.6/10.6 MB 2.3 MB/s eta 0:00:00\n",
      "Installing collected packages: pygame\n",
      "Successfully installed pygame-2.6.1\n"
     ]
    }
   ],
   "source": [
    "!pip install pygame"
   ]
  },
  {
   "cell_type": "code",
   "execution_count": 3,
   "id": "93f7fe98",
   "metadata": {},
   "outputs": [
    {
     "ename": "SystemExit",
     "evalue": "",
     "output_type": "error",
     "traceback": [
      "An exception has occurred, use %tb to see the full traceback.\n",
      "\u001b[1;31mSystemExit\u001b[0m\n"
     ]
    }
   ],
   "source": [
    "import pygame\n",
    "import sys\n",
    "\n",
    "# Initialize Pygame\n",
    "pygame.init()\n",
    "\n",
    "# Screen dimensions\n",
    "WIDTH, HEIGHT = 800, 600\n",
    "screen = pygame.display.set_mode((WIDTH, HEIGHT))\n",
    "pygame.display.set_caption(\"Bouncing Ball\")\n",
    "\n",
    "# Colors\n",
    "WHITE = (255, 255, 255)\n",
    "RED = (255, 0, 0)\n",
    "\n",
    "# Ball properties\n",
    "ball_radius = 20\n",
    "ball_x = WIDTH // 2\n",
    "ball_y = ball_radius\n",
    "ball_color = RED\n",
    "\n",
    "# Ball velocity\n",
    "velocity_y = 0\n",
    "\n",
    "# Gravity and elasticity\n",
    "gravity = 0.5\n",
    "elasticity = 0.8\n",
    "\n",
    "# Ground level\n",
    "ground = HEIGHT - ball_radius\n",
    "\n",
    "# Clock for controlling frame rate\n",
    "clock = pygame.time.Clock()\n",
    "\n",
    "running = True\n",
    "while running:\n",
    "    for event in pygame.event.get():\n",
    "        if event.type == pygame.QUIT:\n",
    "            running = False\n",
    "\n",
    "    # Apply gravity to the ball's vertical velocity\n",
    "    velocity_y += gravity\n",
    "\n",
    "    # Update the ball's position\n",
    "    ball_y += velocity_y\n",
    "\n",
    "    # Check for collision with the ground\n",
    "    if ball_y >= ground:\n",
    "        ball_y = ground\n",
    "        velocity_y = -velocity_y * elasticity\n",
    "\n",
    "    # Clear the screen\n",
    "    screen.fill(WHITE)\n",
    "\n",
    "    # Draw the ball\n",
    "    pygame.draw.circle(screen, ball_color, (ball_x, int(ball_y)), ball_radius)\n",
    "\n",
    "    # Update the display\n",
    "    pygame.display.flip()\n",
    "\n",
    "    # Control the frame rate\n",
    "    clock.tick(60)\n",
    "\n",
    "pygame.quit()\n",
    "sys.exit()\n"
   ]
  },
  {
   "cell_type": "code",
   "execution_count": null,
   "id": "904053a1",
   "metadata": {},
   "outputs": [],
   "source": []
  }
 ],
 "metadata": {
  "kernelspec": {
   "display_name": "Python 3 (ipykernel)",
   "language": "python",
   "name": "python3"
  },
  "language_info": {
   "codemirror_mode": {
    "name": "ipython",
    "version": 3
   },
   "file_extension": ".py",
   "mimetype": "text/x-python",
   "name": "python",
   "nbconvert_exporter": "python",
   "pygments_lexer": "ipython3",
   "version": "3.11.5"
  }
 },
 "nbformat": 4,
 "nbformat_minor": 5
}
