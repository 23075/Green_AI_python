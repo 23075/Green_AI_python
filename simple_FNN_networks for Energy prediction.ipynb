{
 "cells": [
  {
   "cell_type": "code",
   "execution_count": 2,
   "id": "4a13735a",
   "metadata": {},
   "outputs": [
    {
     "name": "stdout",
     "output_type": "stream",
     "text": [
      "Requirement already satisfied: numpy in c:\\users\\acer\\anaconda3\\lib\\site-packages (2.0.2)Note: you may need to restart the kernel to use updated packages.\n"
     ]
    },
    {
     "name": "stderr",
     "output_type": "stream",
     "text": [
      "ERROR: Could not install packages due to an OSError: [WinError 5] Access is denied: 'C:\\\\Users\\\\ACER\\\\anaconda3\\\\Lib\\\\site-packages\\\\~umpy.libs\\\\libscipy_openblas64_-caad452230ae4ddb57899b8b3a33c55c.dll'\n",
      "Consider using the `--user` option or check the permissions.\n",
      "\n"
     ]
    },
    {
     "name": "stdout",
     "output_type": "stream",
     "text": [
      "\n",
      "Requirement already satisfied: pandas in c:\\users\\acer\\anaconda3\\lib\\site-packages (2.0.3)\n",
      "Requirement already satisfied: matplotlib in c:\\users\\acer\\anaconda3\\lib\\site-packages (3.7.2)\n",
      "Requirement already satisfied: tensorflow in c:\\users\\acer\\anaconda3\\lib\\site-packages (2.18.0)\n",
      "Requirement already satisfied: scikit-learn in c:\\users\\acer\\anaconda3\\lib\\site-packages (1.3.0)\n",
      "Requirement already satisfied: python-dateutil>=2.8.2 in c:\\users\\acer\\anaconda3\\lib\\site-packages (from pandas) (2.8.2)\n",
      "Requirement already satisfied: pytz>=2020.1 in c:\\users\\acer\\anaconda3\\lib\\site-packages (from pandas) (2023.3.post1)\n",
      "Requirement already satisfied: tzdata>=2022.1 in c:\\users\\acer\\anaconda3\\lib\\site-packages (from pandas) (2023.3)\n",
      "Requirement already satisfied: contourpy>=1.0.1 in c:\\users\\acer\\anaconda3\\lib\\site-packages (from matplotlib) (1.0.5)\n",
      "Requirement already satisfied: cycler>=0.10 in c:\\users\\acer\\anaconda3\\lib\\site-packages (from matplotlib) (0.11.0)\n",
      "Requirement already satisfied: fonttools>=4.22.0 in c:\\users\\acer\\anaconda3\\lib\\site-packages (from matplotlib) (4.25.0)\n",
      "Requirement already satisfied: kiwisolver>=1.0.1 in c:\\users\\acer\\anaconda3\\lib\\site-packages (from matplotlib) (1.4.4)\n",
      "Requirement already satisfied: packaging>=20.0 in c:\\users\\acer\\anaconda3\\lib\\site-packages (from matplotlib) (23.1)\n",
      "Requirement already satisfied: pillow>=6.2.0 in c:\\users\\acer\\anaconda3\\lib\\site-packages (from matplotlib) (10.3.0)\n",
      "Requirement already satisfied: pyparsing<3.1,>=2.3.1 in c:\\users\\acer\\anaconda3\\lib\\site-packages (from matplotlib) (3.0.9)\n",
      "Requirement already satisfied: tensorflow-intel==2.18.0 in c:\\users\\acer\\anaconda3\\lib\\site-packages (from tensorflow) (2.18.0)\n",
      "Requirement already satisfied: absl-py>=1.0.0 in c:\\users\\acer\\anaconda3\\lib\\site-packages (from tensorflow-intel==2.18.0->tensorflow) (2.1.0)\n",
      "Requirement already satisfied: astunparse>=1.6.0 in c:\\users\\acer\\anaconda3\\lib\\site-packages (from tensorflow-intel==2.18.0->tensorflow) (1.6.3)\n",
      "Requirement already satisfied: flatbuffers>=24.3.25 in c:\\users\\acer\\anaconda3\\lib\\site-packages (from tensorflow-intel==2.18.0->tensorflow) (24.12.23)\n",
      "Requirement already satisfied: gast!=0.5.0,!=0.5.1,!=0.5.2,>=0.2.1 in c:\\users\\acer\\anaconda3\\lib\\site-packages (from tensorflow-intel==2.18.0->tensorflow) (0.6.0)\n",
      "Requirement already satisfied: google-pasta>=0.1.1 in c:\\users\\acer\\anaconda3\\lib\\site-packages (from tensorflow-intel==2.18.0->tensorflow) (0.2.0)\n",
      "Requirement already satisfied: libclang>=13.0.0 in c:\\users\\acer\\anaconda3\\lib\\site-packages (from tensorflow-intel==2.18.0->tensorflow) (18.1.1)\n",
      "Requirement already satisfied: opt-einsum>=2.3.2 in c:\\users\\acer\\anaconda3\\lib\\site-packages (from tensorflow-intel==2.18.0->tensorflow) (3.4.0)\n",
      "Requirement already satisfied: protobuf!=4.21.0,!=4.21.1,!=4.21.2,!=4.21.3,!=4.21.4,!=4.21.5,<6.0.0dev,>=3.20.3 in c:\\users\\acer\\anaconda3\\lib\\site-packages (from tensorflow-intel==2.18.0->tensorflow) (5.29.3)\n",
      "Requirement already satisfied: requests<3,>=2.21.0 in c:\\users\\acer\\anaconda3\\lib\\site-packages (from tensorflow-intel==2.18.0->tensorflow) (2.32.3)\n",
      "Requirement already satisfied: setuptools in c:\\users\\acer\\anaconda3\\lib\\site-packages (from tensorflow-intel==2.18.0->tensorflow) (68.0.0)\n",
      "Requirement already satisfied: six>=1.12.0 in c:\\users\\acer\\anaconda3\\lib\\site-packages (from tensorflow-intel==2.18.0->tensorflow) (1.16.0)\n",
      "Requirement already satisfied: termcolor>=1.1.0 in c:\\users\\acer\\anaconda3\\lib\\site-packages (from tensorflow-intel==2.18.0->tensorflow) (2.5.0)\n",
      "Requirement already satisfied: typing-extensions>=3.6.6 in c:\\users\\acer\\anaconda3\\lib\\site-packages (from tensorflow-intel==2.18.0->tensorflow) (4.7.1)\n",
      "Requirement already satisfied: wrapt>=1.11.0 in c:\\users\\acer\\anaconda3\\lib\\site-packages (from tensorflow-intel==2.18.0->tensorflow) (1.14.1)\n",
      "Requirement already satisfied: grpcio<2.0,>=1.24.3 in c:\\users\\acer\\anaconda3\\lib\\site-packages (from tensorflow-intel==2.18.0->tensorflow) (1.69.0)\n",
      "Requirement already satisfied: tensorboard<2.19,>=2.18 in c:\\users\\acer\\anaconda3\\lib\\site-packages (from tensorflow-intel==2.18.0->tensorflow) (2.18.0)\n",
      "Requirement already satisfied: keras>=3.5.0 in c:\\users\\acer\\anaconda3\\lib\\site-packages (from tensorflow-intel==2.18.0->tensorflow) (3.8.0)\n",
      "Requirement already satisfied: h5py>=3.11.0 in c:\\users\\acer\\anaconda3\\lib\\site-packages (from tensorflow-intel==2.18.0->tensorflow) (3.12.1)\n",
      "Requirement already satisfied: ml-dtypes<0.5.0,>=0.4.0 in c:\\users\\acer\\anaconda3\\lib\\site-packages (from tensorflow-intel==2.18.0->tensorflow) (0.4.1)\n",
      "Requirement already satisfied: tensorflow-io-gcs-filesystem>=0.23.1 in c:\\users\\acer\\anaconda3\\lib\\site-packages (from tensorflow-intel==2.18.0->tensorflow) (0.31.0)\n",
      "Requirement already satisfied: scipy>=1.5.0 in c:\\users\\acer\\anaconda3\\lib\\site-packages (from scikit-learn) (1.11.1)\n",
      "Requirement already satisfied: joblib>=1.1.1 in c:\\users\\acer\\anaconda3\\lib\\site-packages (from scikit-learn) (1.2.0)\n",
      "Requirement already satisfied: threadpoolctl>=2.0.0 in c:\\users\\acer\\anaconda3\\lib\\site-packages (from scikit-learn) (2.2.0)\n",
      "Collecting numpy\n",
      "  Obtaining dependency information for numpy from https://files.pythonhosted.org/packages/3f/6b/5610004206cf7f8e7ad91c5a85a8c71b2f2f8051a0c0c4d5916b76d6cbb2/numpy-1.26.4-cp311-cp311-win_amd64.whl.metadata\n",
      "  Downloading numpy-1.26.4-cp311-cp311-win_amd64.whl.metadata (61 kB)\n",
      "     ---------------------------------------- 0.0/61.0 kB ? eta -:--:--\n",
      "     ------ --------------------------------- 10.2/61.0 kB ? eta -:--:--\n",
      "     ------------------- ------------------ 30.7/61.0 kB 435.7 kB/s eta 0:00:01\n",
      "     ------------------------------- ------ 51.2/61.0 kB 435.7 kB/s eta 0:00:01\n",
      "     -------------------------------------- 61.0/61.0 kB 406.4 kB/s eta 0:00:00\n",
      "Requirement already satisfied: wheel<1.0,>=0.23.0 in c:\\users\\acer\\anaconda3\\lib\\site-packages (from astunparse>=1.6.0->tensorflow-intel==2.18.0->tensorflow) (0.38.4)\n",
      "Requirement already satisfied: rich in c:\\users\\acer\\anaconda3\\lib\\site-packages (from keras>=3.5.0->tensorflow-intel==2.18.0->tensorflow) (13.9.4)\n",
      "Requirement already satisfied: namex in c:\\users\\acer\\anaconda3\\lib\\site-packages (from keras>=3.5.0->tensorflow-intel==2.18.0->tensorflow) (0.0.8)\n",
      "Requirement already satisfied: optree in c:\\users\\acer\\anaconda3\\lib\\site-packages (from keras>=3.5.0->tensorflow-intel==2.18.0->tensorflow) (0.13.1)\n",
      "Requirement already satisfied: charset-normalizer<4,>=2 in c:\\users\\acer\\anaconda3\\lib\\site-packages (from requests<3,>=2.21.0->tensorflow-intel==2.18.0->tensorflow) (2.0.4)\n",
      "Requirement already satisfied: idna<4,>=2.5 in c:\\users\\acer\\anaconda3\\lib\\site-packages (from requests<3,>=2.21.0->tensorflow-intel==2.18.0->tensorflow) (3.4)\n",
      "Requirement already satisfied: urllib3<3,>=1.21.1 in c:\\users\\acer\\anaconda3\\lib\\site-packages (from requests<3,>=2.21.0->tensorflow-intel==2.18.0->tensorflow) (1.26.16)\n",
      "Requirement already satisfied: certifi>=2017.4.17 in c:\\users\\acer\\anaconda3\\lib\\site-packages (from requests<3,>=2.21.0->tensorflow-intel==2.18.0->tensorflow) (2024.12.14)\n",
      "Requirement already satisfied: markdown>=2.6.8 in c:\\users\\acer\\anaconda3\\lib\\site-packages (from tensorboard<2.19,>=2.18->tensorflow-intel==2.18.0->tensorflow) (3.4.1)\n",
      "Requirement already satisfied: tensorboard-data-server<0.8.0,>=0.7.0 in c:\\users\\acer\\anaconda3\\lib\\site-packages (from tensorboard<2.19,>=2.18->tensorflow-intel==2.18.0->tensorflow) (0.7.2)\n",
      "Requirement already satisfied: werkzeug>=1.0.1 in c:\\users\\acer\\anaconda3\\lib\\site-packages (from tensorboard<2.19,>=2.18->tensorflow-intel==2.18.0->tensorflow) (2.2.3)\n",
      "Requirement already satisfied: MarkupSafe>=2.1.1 in c:\\users\\acer\\anaconda3\\lib\\site-packages (from werkzeug>=1.0.1->tensorboard<2.19,>=2.18->tensorflow-intel==2.18.0->tensorflow) (2.1.1)\n",
      "Requirement already satisfied: markdown-it-py>=2.2.0 in c:\\users\\acer\\anaconda3\\lib\\site-packages (from rich->keras>=3.5.0->tensorflow-intel==2.18.0->tensorflow) (2.2.0)\n",
      "Requirement already satisfied: pygments<3.0.0,>=2.13.0 in c:\\users\\acer\\anaconda3\\lib\\site-packages (from rich->keras>=3.5.0->tensorflow-intel==2.18.0->tensorflow) (2.15.1)\n",
      "Requirement already satisfied: mdurl~=0.1 in c:\\users\\acer\\anaconda3\\lib\\site-packages (from markdown-it-py>=2.2.0->rich->keras>=3.5.0->tensorflow-intel==2.18.0->tensorflow) (0.1.0)\n",
      "Downloading numpy-1.26.4-cp311-cp311-win_amd64.whl (15.8 MB)\n",
      "   ---------------------------------------- 0.0/15.8 MB ? eta -:--:--\n",
      "   ---------------------------------------- 0.0/15.8 MB 1.3 MB/s eta 0:00:13\n",
      "   ---------------------------------------- 0.1/15.8 MB 1.7 MB/s eta 0:00:10\n",
      "   ---------------------------------------- 0.2/15.8 MB 1.5 MB/s eta 0:00:11\n",
      "    --------------------------------------- 0.3/15.8 MB 2.0 MB/s eta 0:00:08\n",
      "   - -------------------------------------- 0.6/15.8 MB 2.6 MB/s eta 0:00:06\n",
      "   - -------------------------------------- 0.6/15.8 MB 2.6 MB/s eta 0:00:06\n",
      "   - -------------------------------------- 0.8/15.8 MB 2.7 MB/s eta 0:00:06\n",
      "   -- ------------------------------------- 0.9/15.8 MB 2.5 MB/s eta 0:00:06\n",
      "   -- ------------------------------------- 0.9/15.8 MB 2.5 MB/s eta 0:00:06\n",
      "   --- ------------------------------------ 1.3/15.8 MB 2.8 MB/s eta 0:00:06\n",
      "   --- ------------------------------------ 1.5/15.8 MB 3.1 MB/s eta 0:00:05\n",
      "   ----- ---------------------------------- 2.1/15.8 MB 3.8 MB/s eta 0:00:04\n",
      "   ----- ---------------------------------- 2.2/15.8 MB 3.8 MB/s eta 0:00:04\n",
      "   ------ --------------------------------- 2.7/15.8 MB 4.2 MB/s eta 0:00:04\n",
      "   ------- -------------------------------- 3.0/15.8 MB 4.3 MB/s eta 0:00:03\n",
      "   ------- -------------------------------- 3.2/15.8 MB 4.3 MB/s eta 0:00:03\n",
      "   -------- ------------------------------- 3.3/15.8 MB 4.3 MB/s eta 0:00:03\n",
      "   --------- ------------------------------ 3.6/15.8 MB 4.3 MB/s eta 0:00:03\n",
      "   --------- ------------------------------ 3.9/15.8 MB 4.5 MB/s eta 0:00:03\n",
      "   ---------- ----------------------------- 4.2/15.8 MB 4.5 MB/s eta 0:00:03\n",
      "   ----------- ---------------------------- 4.5/15.8 MB 4.6 MB/s eta 0:00:03\n",
      "   ------------ --------------------------- 4.8/15.8 MB 4.7 MB/s eta 0:00:03\n",
      "   ------------ --------------------------- 5.1/15.8 MB 4.8 MB/s eta 0:00:03\n",
      "   ------------- -------------------------- 5.4/15.8 MB 4.8 MB/s eta 0:00:03\n",
      "   -------------- ------------------------- 5.7/15.8 MB 4.9 MB/s eta 0:00:03\n",
      "   --------------- ------------------------ 6.0/15.8 MB 5.0 MB/s eta 0:00:02\n",
      "   --------------- ------------------------ 6.2/15.8 MB 5.0 MB/s eta 0:00:02\n",
      "   ---------------- ----------------------- 6.4/15.8 MB 5.0 MB/s eta 0:00:02\n",
      "   ---------------- ----------------------- 6.5/15.8 MB 4.9 MB/s eta 0:00:02\n",
      "   ----------------- ---------------------- 6.8/15.8 MB 4.9 MB/s eta 0:00:02\n",
      "   ----------------- ---------------------- 7.0/15.8 MB 4.9 MB/s eta 0:00:02\n",
      "   ------------------ --------------------- 7.3/15.8 MB 4.9 MB/s eta 0:00:02\n",
      "   ------------------- -------------------- 7.5/15.8 MB 4.9 MB/s eta 0:00:02\n",
      "   ------------------- -------------------- 7.8/15.8 MB 4.9 MB/s eta 0:00:02\n",
      "   -------------------- ------------------- 8.0/15.8 MB 4.9 MB/s eta 0:00:02\n",
      "   -------------------- ------------------- 8.3/15.8 MB 5.0 MB/s eta 0:00:02\n",
      "   --------------------- ------------------ 8.6/15.8 MB 5.0 MB/s eta 0:00:02\n",
      "   ---------------------- ----------------- 8.8/15.8 MB 5.0 MB/s eta 0:00:02\n",
      "   ---------------------- ----------------- 8.9/15.8 MB 5.0 MB/s eta 0:00:02\n",
      "   ----------------------- ---------------- 9.2/15.8 MB 4.9 MB/s eta 0:00:02\n",
      "   ----------------------- ---------------- 9.3/15.8 MB 4.9 MB/s eta 0:00:02\n",
      "   ------------------------ --------------- 9.6/15.8 MB 4.9 MB/s eta 0:00:02\n",
      "   ------------------------ --------------- 9.9/15.8 MB 4.9 MB/s eta 0:00:02\n",
      "   ------------------------- -------------- 10.0/15.8 MB 4.9 MB/s eta 0:00:02\n",
      "   ------------------------- -------------- 10.3/15.8 MB 4.9 MB/s eta 0:00:02\n",
      "   -------------------------- ------------- 10.4/15.8 MB 5.1 MB/s eta 0:00:02\n",
      "   -------------------------- ------------- 10.6/15.8 MB 5.2 MB/s eta 0:00:02\n",
      "   --------------------------- ------------ 10.8/15.8 MB 5.1 MB/s eta 0:00:01\n",
      "   --------------------------- ------------ 10.9/15.8 MB 5.1 MB/s eta 0:00:01\n",
      "   --------------------------- ------------ 10.9/15.8 MB 5.1 MB/s eta 0:00:01\n",
      "   --------------------------- ------------ 11.0/15.8 MB 5.2 MB/s eta 0:00:01\n",
      "   ---------------------------- ----------- 11.1/15.8 MB 5.0 MB/s eta 0:00:01\n",
      "   ---------------------------- ----------- 11.2/15.8 MB 5.1 MB/s eta 0:00:01\n",
      "   ---------------------------- ----------- 11.3/15.8 MB 4.9 MB/s eta 0:00:01\n",
      "   ---------------------------- ----------- 11.4/15.8 MB 4.9 MB/s eta 0:00:01\n",
      "   ---------------------------- ----------- 11.4/15.8 MB 4.9 MB/s eta 0:00:01\n",
      "   ----------------------------- ---------- 11.6/15.8 MB 4.7 MB/s eta 0:00:01\n",
      "   ----------------------------- ---------- 11.7/15.8 MB 4.6 MB/s eta 0:00:01\n",
      "   ----------------------------- ---------- 11.7/15.8 MB 4.6 MB/s eta 0:00:01\n",
      "   ----------------------------- ---------- 11.8/15.8 MB 4.5 MB/s eta 0:00:01\n",
      "   ----------------------------- ---------- 11.8/15.8 MB 4.5 MB/s eta 0:00:01\n",
      "   ----------------------------- ---------- 11.9/15.8 MB 4.3 MB/s eta 0:00:01\n",
      "   ------------------------------ --------- 11.9/15.8 MB 4.3 MB/s eta 0:00:01\n",
      "   ------------------------------ --------- 12.0/15.8 MB 4.2 MB/s eta 0:00:01\n",
      "   ------------------------------ --------- 12.0/15.8 MB 4.1 MB/s eta 0:00:01\n",
      "   ------------------------------ --------- 12.1/15.8 MB 4.0 MB/s eta 0:00:01\n",
      "   ------------------------------ --------- 12.2/15.8 MB 4.0 MB/s eta 0:00:01\n",
      "   ------------------------------- -------- 12.3/15.8 MB 3.9 MB/s eta 0:00:01\n",
      "   ------------------------------- -------- 12.4/15.8 MB 3.9 MB/s eta 0:00:01\n",
      "   ------------------------------- -------- 12.5/15.8 MB 3.9 MB/s eta 0:00:01\n",
      "   ------------------------------- -------- 12.6/15.8 MB 3.8 MB/s eta 0:00:01\n",
      "   -------------------------------- ------- 12.8/15.8 MB 3.8 MB/s eta 0:00:01\n",
      "   -------------------------------- ------- 12.9/15.8 MB 3.7 MB/s eta 0:00:01\n",
      "   -------------------------------- ------- 13.0/15.8 MB 3.7 MB/s eta 0:00:01\n",
      "   --------------------------------- ------ 13.2/15.8 MB 3.7 MB/s eta 0:00:01\n",
      "   --------------------------------- ------ 13.3/15.8 MB 3.7 MB/s eta 0:00:01\n",
      "   --------------------------------- ------ 13.3/15.8 MB 3.6 MB/s eta 0:00:01\n",
      "   --------------------------------- ------ 13.4/15.8 MB 3.6 MB/s eta 0:00:01\n",
      "   ---------------------------------- ----- 13.5/15.8 MB 3.5 MB/s eta 0:00:01\n",
      "   ---------------------------------- ----- 13.5/15.8 MB 3.5 MB/s eta 0:00:01\n",
      "   ---------------------------------- ----- 13.6/15.8 MB 3.4 MB/s eta 0:00:01\n",
      "   ---------------------------------- ----- 13.6/15.8 MB 3.4 MB/s eta 0:00:01\n",
      "   ---------------------------------- ----- 13.7/15.8 MB 3.4 MB/s eta 0:00:01\n",
      "   ---------------------------------- ----- 13.7/15.8 MB 3.3 MB/s eta 0:00:01\n",
      "   ---------------------------------- ----- 13.7/15.8 MB 3.3 MB/s eta 0:00:01\n",
      "   ---------------------------------- ----- 13.8/15.8 MB 3.2 MB/s eta 0:00:01\n",
      "   ----------------------------------- ---- 13.8/15.8 MB 3.2 MB/s eta 0:00:01\n",
      "   ----------------------------------- ---- 13.9/15.8 MB 3.2 MB/s eta 0:00:01\n",
      "   ----------------------------------- ---- 14.0/15.8 MB 3.1 MB/s eta 0:00:01\n",
      "   ----------------------------------- ---- 14.0/15.8 MB 3.1 MB/s eta 0:00:01\n",
      "   ----------------------------------- ---- 14.1/15.8 MB 3.0 MB/s eta 0:00:01\n",
      "   ----------------------------------- ---- 14.2/15.8 MB 3.0 MB/s eta 0:00:01\n",
      "   ----------------------------------- ---- 14.2/15.8 MB 3.0 MB/s eta 0:00:01\n",
      "   ------------------------------------ --- 14.3/15.8 MB 3.0 MB/s eta 0:00:01\n",
      "   ------------------------------------ --- 14.5/15.8 MB 2.9 MB/s eta 0:00:01\n",
      "   ------------------------------------ --- 14.6/15.8 MB 2.9 MB/s eta 0:00:01\n",
      "   ------------------------------------- -- 14.8/15.8 MB 2.9 MB/s eta 0:00:01\n",
      "   ------------------------------------- -- 14.9/15.8 MB 2.9 MB/s eta 0:00:01\n",
      "   -------------------------------------- - 15.1/15.8 MB 2.9 MB/s eta 0:00:01\n",
      "   -------------------------------------- - 15.2/15.8 MB 2.9 MB/s eta 0:00:01\n",
      "   -------------------------------------- - 15.4/15.8 MB 2.8 MB/s eta 0:00:01\n",
      "   ---------------------------------------  15.6/15.8 MB 2.8 MB/s eta 0:00:01\n",
      "   ---------------------------------------  15.7/15.8 MB 2.8 MB/s eta 0:00:01\n",
      "   ---------------------------------------  15.8/15.8 MB 2.8 MB/s eta 0:00:01\n",
      "   ---------------------------------------  15.8/15.8 MB 2.8 MB/s eta 0:00:01\n",
      "   ---------------------------------------- 15.8/15.8 MB 2.7 MB/s eta 0:00:00\n",
      "Installing collected packages: numpy\n",
      "  Attempting uninstall: numpy\n",
      "    Found existing installation: numpy 2.0.2\n",
      "    Uninstalling numpy-2.0.2:\n",
      "      Successfully uninstalled numpy-2.0.2\n"
     ]
    }
   ],
   "source": [
    "pip install numpy pandas matplotlib tensorflow scikit-learn"
   ]
  },
  {
   "cell_type": "code",
   "execution_count": 25,
   "id": "909f1860",
   "metadata": {},
   "outputs": [],
   "source": [
    "import numpy as np\n",
    "import pandas as pd\n",
    "import matplotlib.pyplot as plt\n",
    "from sklearn.model_selection import train_test_split\n",
    "from sklearn.preprocessing import StandardScaler\n",
    "from tensorflow.keras.models import Sequential\n",
    "from tensorflow.keras.layers import Dense   #because they are densely connected"
   ]
  },
  {
   "cell_type": "code",
   "execution_count": 26,
   "id": "68f11d49",
   "metadata": {},
   "outputs": [
    {
     "data": {
      "text/html": [
       "<div>\n",
       "<style scoped>\n",
       "    .dataframe tbody tr th:only-of-type {\n",
       "        vertical-align: middle;\n",
       "    }\n",
       "\n",
       "    .dataframe tbody tr th {\n",
       "        vertical-align: top;\n",
       "    }\n",
       "\n",
       "    .dataframe thead th {\n",
       "        text-align: right;\n",
       "    }\n",
       "</style>\n",
       "<table border=\"1\" class=\"dataframe\">\n",
       "  <thead>\n",
       "    <tr style=\"text-align: right;\">\n",
       "      <th></th>\n",
       "      <th>temperature</th>\n",
       "      <th>humidity</th>\n",
       "      <th>wind_speed</th>\n",
       "      <th>solar_irradiance</th>\n",
       "      <th>energy_consumption</th>\n",
       "    </tr>\n",
       "  </thead>\n",
       "  <tbody>\n",
       "    <tr>\n",
       "      <th>0</th>\n",
       "      <td>24.363503</td>\n",
       "      <td>31.107976</td>\n",
       "      <td>5.234114</td>\n",
       "      <td>705.432695</td>\n",
       "      <td>307.398145</td>\n",
       "    </tr>\n",
       "    <tr>\n",
       "      <th>1</th>\n",
       "      <td>38.767858</td>\n",
       "      <td>52.514057</td>\n",
       "      <td>4.939576</td>\n",
       "      <td>817.013258</td>\n",
       "      <td>412.444548</td>\n",
       "    </tr>\n",
       "    <tr>\n",
       "      <th>2</th>\n",
       "      <td>33.299849</td>\n",
       "      <td>72.376750</td>\n",
       "      <td>18.125092</td>\n",
       "      <td>325.421109</td>\n",
       "      <td>392.072418</td>\n",
       "    </tr>\n",
       "    <tr>\n",
       "      <th>3</th>\n",
       "      <td>29.966462</td>\n",
       "      <td>63.933493</td>\n",
       "      <td>4.990924</td>\n",
       "      <td>662.386690</td>\n",
       "      <td>119.254957</td>\n",
       "    </tr>\n",
       "    <tr>\n",
       "      <th>4</th>\n",
       "      <td>18.900466</td>\n",
       "      <td>68.393669</td>\n",
       "      <td>5.438995</td>\n",
       "      <td>614.571385</td>\n",
       "      <td>117.162261</td>\n",
       "    </tr>\n",
       "  </tbody>\n",
       "</table>\n",
       "</div>"
      ],
      "text/plain": [
       "   temperature   humidity  wind_speed  solar_irradiance  energy_consumption\n",
       "0    24.363503  31.107976    5.234114        705.432695          307.398145\n",
       "1    38.767858  52.514057    4.939576        817.013258          412.444548\n",
       "2    33.299849  72.376750   18.125092        325.421109          392.072418\n",
       "3    29.966462  63.933493    4.990924        662.386690          119.254957\n",
       "4    18.900466  68.393669    5.438995        614.571385          117.162261"
      ]
     },
     "execution_count": 26,
     "metadata": {},
     "output_type": "execute_result"
    }
   ],
   "source": [
    "data = pd.read_excel('predict_energy_consumption.xlsx')\n",
    "data.head()"
   ]
  },
  {
   "cell_type": "code",
   "execution_count": 8,
   "id": "a498ce93",
   "metadata": {},
   "outputs": [
    {
     "data": {
      "text/html": [
       "<div>\n",
       "<style scoped>\n",
       "    .dataframe tbody tr th:only-of-type {\n",
       "        vertical-align: middle;\n",
       "    }\n",
       "\n",
       "    .dataframe tbody tr th {\n",
       "        vertical-align: top;\n",
       "    }\n",
       "\n",
       "    .dataframe thead th {\n",
       "        text-align: right;\n",
       "    }\n",
       "</style>\n",
       "<table border=\"1\" class=\"dataframe\">\n",
       "  <thead>\n",
       "    <tr style=\"text-align: right;\">\n",
       "      <th></th>\n",
       "      <th>temperature</th>\n",
       "      <th>humidity</th>\n",
       "      <th>wind_speed</th>\n",
       "      <th>solar_irradiance</th>\n",
       "      <th>energy_consumption</th>\n",
       "    </tr>\n",
       "  </thead>\n",
       "  <tbody>\n",
       "    <tr>\n",
       "      <th>995</th>\n",
       "      <td>17.289552</td>\n",
       "      <td>59.417309</td>\n",
       "      <td>17.305915</td>\n",
       "      <td>497.896331</td>\n",
       "      <td>453.828793</td>\n",
       "    </tr>\n",
       "    <tr>\n",
       "      <th>996</th>\n",
       "      <td>37.932839</td>\n",
       "      <td>77.396877</td>\n",
       "      <td>3.145464</td>\n",
       "      <td>400.961061</td>\n",
       "      <td>103.721455</td>\n",
       "    </tr>\n",
       "    <tr>\n",
       "      <th>997</th>\n",
       "      <td>18.420466</td>\n",
       "      <td>24.137481</td>\n",
       "      <td>6.195757</td>\n",
       "      <td>455.115084</td>\n",
       "      <td>197.529277</td>\n",
       "    </tr>\n",
       "    <tr>\n",
       "      <th>998</th>\n",
       "      <td>38.755934</td>\n",
       "      <td>23.423283</td>\n",
       "      <td>5.800911</td>\n",
       "      <td>576.946528</td>\n",
       "      <td>417.085421</td>\n",
       "    </tr>\n",
       "    <tr>\n",
       "      <th>999</th>\n",
       "      <td>26.150144</td>\n",
       "      <td>36.931224</td>\n",
       "      <td>17.428281</td>\n",
       "      <td>245.230623</td>\n",
       "      <td>318.790570</td>\n",
       "    </tr>\n",
       "  </tbody>\n",
       "</table>\n",
       "</div>"
      ],
      "text/plain": [
       "     temperature   humidity  wind_speed  solar_irradiance  energy_consumption\n",
       "995    17.289552  59.417309   17.305915        497.896331          453.828793\n",
       "996    37.932839  77.396877    3.145464        400.961061          103.721455\n",
       "997    18.420466  24.137481    6.195757        455.115084          197.529277\n",
       "998    38.755934  23.423283    5.800911        576.946528          417.085421\n",
       "999    26.150144  36.931224   17.428281        245.230623          318.790570"
      ]
     },
     "execution_count": 8,
     "metadata": {},
     "output_type": "execute_result"
    }
   ],
   "source": [
    "data.tail()"
   ]
  },
  {
   "cell_type": "code",
   "execution_count": 9,
   "id": "c41e7d1b",
   "metadata": {},
   "outputs": [
    {
     "name": "stdout",
     "output_type": "stream",
     "text": [
      "<class 'pandas.core.frame.DataFrame'>\n",
      "RangeIndex: 1000 entries, 0 to 999\n",
      "Data columns (total 5 columns):\n",
      " #   Column              Non-Null Count  Dtype  \n",
      "---  ------              --------------  -----  \n",
      " 0   temperature         1000 non-null   float64\n",
      " 1   humidity            1000 non-null   float64\n",
      " 2   wind_speed          1000 non-null   float64\n",
      " 3   solar_irradiance    1000 non-null   float64\n",
      " 4   energy_consumption  1000 non-null   float64\n",
      "dtypes: float64(5)\n",
      "memory usage: 39.2 KB\n"
     ]
    }
   ],
   "source": [
    "data.info()"
   ]
  },
  {
   "cell_type": "code",
   "execution_count": 10,
   "id": "143f2f0e",
   "metadata": {},
   "outputs": [
    {
     "data": {
      "text/plain": [
       "Index(['temperature', 'humidity', 'wind_speed', 'solar_irradiance',\n",
       "       'energy_consumption'],\n",
       "      dtype='object')"
      ]
     },
     "execution_count": 10,
     "metadata": {},
     "output_type": "execute_result"
    }
   ],
   "source": [
    "data.columns"
   ]
  },
  {
   "cell_type": "code",
   "execution_count": 11,
   "id": "bcd4c295",
   "metadata": {},
   "outputs": [
    {
     "data": {
      "text/plain": [
       "(1000, 5)"
      ]
     },
     "execution_count": 11,
     "metadata": {},
     "output_type": "execute_result"
    }
   ],
   "source": [
    "data.shape"
   ]
  },
  {
   "cell_type": "code",
   "execution_count": 12,
   "id": "405c6da4",
   "metadata": {},
   "outputs": [
    {
     "data": {
      "text/plain": [
       "temperature            18.899863\n",
       "humidity               59.527002\n",
       "wind_speed             15.187965\n",
       "solar_irradiance      849.547339\n",
       "energy_consumption    170.678465\n",
       "Name: 5, dtype: float64"
      ]
     },
     "execution_count": 12,
     "metadata": {},
     "output_type": "execute_result"
    }
   ],
   "source": [
    "data.iloc[5]"
   ]
  },
  {
   "cell_type": "code",
   "execution_count": 13,
   "id": "eb2641b0",
   "metadata": {},
   "outputs": [
    {
     "data": {
      "text/html": [
       "<div>\n",
       "<style scoped>\n",
       "    .dataframe tbody tr th:only-of-type {\n",
       "        vertical-align: middle;\n",
       "    }\n",
       "\n",
       "    .dataframe tbody tr th {\n",
       "        vertical-align: top;\n",
       "    }\n",
       "\n",
       "    .dataframe thead th {\n",
       "        text-align: right;\n",
       "    }\n",
       "</style>\n",
       "<table border=\"1\" class=\"dataframe\">\n",
       "  <thead>\n",
       "    <tr style=\"text-align: right;\">\n",
       "      <th></th>\n",
       "      <th>temperature</th>\n",
       "      <th>humidity</th>\n",
       "      <th>wind_speed</th>\n",
       "      <th>solar_irradiance</th>\n",
       "      <th>energy_consumption</th>\n",
       "    </tr>\n",
       "  </thead>\n",
       "  <tbody>\n",
       "    <tr>\n",
       "      <th>temperature</th>\n",
       "      <td>1.000000</td>\n",
       "      <td>0.029310</td>\n",
       "      <td>0.014518</td>\n",
       "      <td>-0.029424</td>\n",
       "      <td>0.034785</td>\n",
       "    </tr>\n",
       "    <tr>\n",
       "      <th>humidity</th>\n",
       "      <td>0.029310</td>\n",
       "      <td>1.000000</td>\n",
       "      <td>0.027262</td>\n",
       "      <td>-0.005791</td>\n",
       "      <td>0.032911</td>\n",
       "    </tr>\n",
       "    <tr>\n",
       "      <th>wind_speed</th>\n",
       "      <td>0.014518</td>\n",
       "      <td>0.027262</td>\n",
       "      <td>1.000000</td>\n",
       "      <td>-0.013560</td>\n",
       "      <td>-0.008858</td>\n",
       "    </tr>\n",
       "    <tr>\n",
       "      <th>solar_irradiance</th>\n",
       "      <td>-0.029424</td>\n",
       "      <td>-0.005791</td>\n",
       "      <td>-0.013560</td>\n",
       "      <td>1.000000</td>\n",
       "      <td>-0.044812</td>\n",
       "    </tr>\n",
       "    <tr>\n",
       "      <th>energy_consumption</th>\n",
       "      <td>0.034785</td>\n",
       "      <td>0.032911</td>\n",
       "      <td>-0.008858</td>\n",
       "      <td>-0.044812</td>\n",
       "      <td>1.000000</td>\n",
       "    </tr>\n",
       "  </tbody>\n",
       "</table>\n",
       "</div>"
      ],
      "text/plain": [
       "                    temperature  humidity  wind_speed  solar_irradiance  \\\n",
       "temperature            1.000000  0.029310    0.014518         -0.029424   \n",
       "humidity               0.029310  1.000000    0.027262         -0.005791   \n",
       "wind_speed             0.014518  0.027262    1.000000         -0.013560   \n",
       "solar_irradiance      -0.029424 -0.005791   -0.013560          1.000000   \n",
       "energy_consumption     0.034785  0.032911   -0.008858         -0.044812   \n",
       "\n",
       "                    energy_consumption  \n",
       "temperature                   0.034785  \n",
       "humidity                      0.032911  \n",
       "wind_speed                   -0.008858  \n",
       "solar_irradiance             -0.044812  \n",
       "energy_consumption            1.000000  "
      ]
     },
     "execution_count": 13,
     "metadata": {},
     "output_type": "execute_result"
    }
   ],
   "source": [
    "data.corr(method='pearson') "
   ]
  },
  {
   "cell_type": "code",
   "execution_count": 24,
   "id": "ccd05ade",
   "metadata": {},
   "outputs": [
    {
     "data": {
      "text/html": [
       "<style type=\"text/css\">\n",
       "#T_ef94e_row1_col0, #T_ef94e_row1_col4, #T_ef94e_row2_col1, #T_ef94e_row2_col2, #T_ef94e_row6_col3 {\n",
       "  background-color: lightblue;\n",
       "}\n",
       "</style>\n",
       "<table id=\"T_ef94e\">\n",
       "  <thead>\n",
       "    <tr>\n",
       "      <th class=\"blank level0\" >&nbsp;</th>\n",
       "      <th id=\"T_ef94e_level0_col0\" class=\"col_heading level0 col0\" >temperature</th>\n",
       "      <th id=\"T_ef94e_level0_col1\" class=\"col_heading level0 col1\" >humidity</th>\n",
       "      <th id=\"T_ef94e_level0_col2\" class=\"col_heading level0 col2\" >wind_speed</th>\n",
       "      <th id=\"T_ef94e_level0_col3\" class=\"col_heading level0 col3\" >solar_irradiance</th>\n",
       "      <th id=\"T_ef94e_level0_col4\" class=\"col_heading level0 col4\" >energy_consumption</th>\n",
       "    </tr>\n",
       "  </thead>\n",
       "  <tbody>\n",
       "    <tr>\n",
       "      <th id=\"T_ef94e_level0_row0\" class=\"row_heading level0 row0\" >0</th>\n",
       "      <td id=\"T_ef94e_row0_col0\" class=\"data row0 col0\" >24.363503</td>\n",
       "      <td id=\"T_ef94e_row0_col1\" class=\"data row0 col1\" >31.107976</td>\n",
       "      <td id=\"T_ef94e_row0_col2\" class=\"data row0 col2\" >5.234114</td>\n",
       "      <td id=\"T_ef94e_row0_col3\" class=\"data row0 col3\" >705.432695</td>\n",
       "      <td id=\"T_ef94e_row0_col4\" class=\"data row0 col4\" >307.398145</td>\n",
       "    </tr>\n",
       "    <tr>\n",
       "      <th id=\"T_ef94e_level0_row1\" class=\"row_heading level0 row1\" >1</th>\n",
       "      <td id=\"T_ef94e_row1_col0\" class=\"data row1 col0\" >38.767858</td>\n",
       "      <td id=\"T_ef94e_row1_col1\" class=\"data row1 col1\" >52.514057</td>\n",
       "      <td id=\"T_ef94e_row1_col2\" class=\"data row1 col2\" >4.939576</td>\n",
       "      <td id=\"T_ef94e_row1_col3\" class=\"data row1 col3\" >817.013258</td>\n",
       "      <td id=\"T_ef94e_row1_col4\" class=\"data row1 col4\" >412.444548</td>\n",
       "    </tr>\n",
       "    <tr>\n",
       "      <th id=\"T_ef94e_level0_row2\" class=\"row_heading level0 row2\" >2</th>\n",
       "      <td id=\"T_ef94e_row2_col0\" class=\"data row2 col0\" >33.299849</td>\n",
       "      <td id=\"T_ef94e_row2_col1\" class=\"data row2 col1\" >72.376750</td>\n",
       "      <td id=\"T_ef94e_row2_col2\" class=\"data row2 col2\" >18.125092</td>\n",
       "      <td id=\"T_ef94e_row2_col3\" class=\"data row2 col3\" >325.421109</td>\n",
       "      <td id=\"T_ef94e_row2_col4\" class=\"data row2 col4\" >392.072418</td>\n",
       "    </tr>\n",
       "    <tr>\n",
       "      <th id=\"T_ef94e_level0_row3\" class=\"row_heading level0 row3\" >3</th>\n",
       "      <td id=\"T_ef94e_row3_col0\" class=\"data row3 col0\" >29.966462</td>\n",
       "      <td id=\"T_ef94e_row3_col1\" class=\"data row3 col1\" >63.933493</td>\n",
       "      <td id=\"T_ef94e_row3_col2\" class=\"data row3 col2\" >4.990924</td>\n",
       "      <td id=\"T_ef94e_row3_col3\" class=\"data row3 col3\" >662.386690</td>\n",
       "      <td id=\"T_ef94e_row3_col4\" class=\"data row3 col4\" >119.254957</td>\n",
       "    </tr>\n",
       "    <tr>\n",
       "      <th id=\"T_ef94e_level0_row4\" class=\"row_heading level0 row4\" >4</th>\n",
       "      <td id=\"T_ef94e_row4_col0\" class=\"data row4 col0\" >18.900466</td>\n",
       "      <td id=\"T_ef94e_row4_col1\" class=\"data row4 col1\" >68.393669</td>\n",
       "      <td id=\"T_ef94e_row4_col2\" class=\"data row4 col2\" >5.438995</td>\n",
       "      <td id=\"T_ef94e_row4_col3\" class=\"data row4 col3\" >614.571385</td>\n",
       "      <td id=\"T_ef94e_row4_col4\" class=\"data row4 col4\" >117.162261</td>\n",
       "    </tr>\n",
       "    <tr>\n",
       "      <th id=\"T_ef94e_level0_row5\" class=\"row_heading level0 row5\" >5</th>\n",
       "      <td id=\"T_ef94e_row5_col0\" class=\"data row5 col0\" >18.899863</td>\n",
       "      <td id=\"T_ef94e_row5_col1\" class=\"data row5 col1\" >59.527002</td>\n",
       "      <td id=\"T_ef94e_row5_col2\" class=\"data row5 col2\" >15.187965</td>\n",
       "      <td id=\"T_ef94e_row5_col3\" class=\"data row5 col3\" >849.547339</td>\n",
       "      <td id=\"T_ef94e_row5_col4\" class=\"data row5 col4\" >170.678465</td>\n",
       "    </tr>\n",
       "    <tr>\n",
       "      <th id=\"T_ef94e_level0_row6\" class=\"row_heading level0 row6\" >6</th>\n",
       "      <td id=\"T_ef94e_row6_col0\" class=\"data row6 col0\" >16.452090</td>\n",
       "      <td id=\"T_ef94e_row6_col1\" class=\"data row6 col1\" >61.536594</td>\n",
       "      <td id=\"T_ef94e_row6_col2\" class=\"data row6 col2\" >8.994797</td>\n",
       "      <td id=\"T_ef94e_row6_col3\" class=\"data row6 col3\" >915.478354</td>\n",
       "      <td id=\"T_ef94e_row6_col4\" class=\"data row6 col4\" >212.483627</td>\n",
       "    </tr>\n",
       "    <tr>\n",
       "      <th id=\"T_ef94e_level0_row7\" class=\"row_heading level0 row7\" >7</th>\n",
       "      <td id=\"T_ef94e_row7_col0\" class=\"data row7 col0\" >36.654404</td>\n",
       "      <td id=\"T_ef94e_row7_col1\" class=\"data row7 col1\" >70.951739</td>\n",
       "      <td id=\"T_ef94e_row7_col2\" class=\"data row7 col2\" >15.534211</td>\n",
       "      <td id=\"T_ef94e_row7_col3\" class=\"data row7 col3\" >110.941094</td>\n",
       "      <td id=\"T_ef94e_row7_col4\" class=\"data row7 col4\" >233.805012</td>\n",
       "    </tr>\n",
       "    <tr>\n",
       "      <th id=\"T_ef94e_level0_row8\" class=\"row_heading level0 row8\" >8</th>\n",
       "      <td id=\"T_ef94e_row8_col0\" class=\"data row8 col0\" >30.027875</td>\n",
       "      <td id=\"T_ef94e_row8_col1\" class=\"data row8 col1\" >34.980081</td>\n",
       "      <td id=\"T_ef94e_row8_col2\" class=\"data row8 col2\" >1.307323</td>\n",
       "      <td id=\"T_ef94e_row8_col3\" class=\"data row8 col3\" >706.617927</td>\n",
       "      <td id=\"T_ef94e_row8_col4\" class=\"data row8 col4\" >355.863748</td>\n",
       "    </tr>\n",
       "    <tr>\n",
       "      <th id=\"T_ef94e_level0_row9\" class=\"row_heading level0 row9\" >9</th>\n",
       "      <td id=\"T_ef94e_row9_col0\" class=\"data row9 col0\" >32.701814</td>\n",
       "      <td id=\"T_ef94e_row9_col1\" class=\"data row9 col1\" >49.365498</td>\n",
       "      <td id=\"T_ef94e_row9_col2\" class=\"data row9 col2\" >9.751424</td>\n",
       "      <td id=\"T_ef94e_row9_col3\" class=\"data row9 col3\" >146.652219</td>\n",
       "      <td id=\"T_ef94e_row9_col4\" class=\"data row9 col4\" >75.506194</td>\n",
       "    </tr>\n",
       "  </tbody>\n",
       "</table>\n"
      ],
      "text/plain": [
       "<pandas.io.formats.style.Styler at 0x211549c2390>"
      ]
     },
     "execution_count": 24,
     "metadata": {},
     "output_type": "execute_result"
    }
   ],
   "source": [
    "data.head(10).style.highlight_max(color='lightblue', axis=0) "
   ]
  },
  {
   "cell_type": "code",
   "execution_count": 27,
   "id": "fbcab7cd",
   "metadata": {},
   "outputs": [],
   "source": [
    "x=data[['temperature', 'humidity', 'wind_speed', 'solar_irradiance']].values\n",
    "y=data['energy_consumption'].values"
   ]
  },
  {
   "cell_type": "code",
   "execution_count": 29,
   "id": "a24f8480",
   "metadata": {},
   "outputs": [],
   "source": [
    "x_train,x_test,y_train,y_test=train_test_split(x,y,test_size=0.2,random_state=42)  #same accuracy on diff layers\n"
   ]
  },
  {
   "cell_type": "code",
   "execution_count": 30,
   "id": "bb116339",
   "metadata": {},
   "outputs": [],
   "source": [
    "scaler=StandardScaler()\n",
    "x_train=scaler.fit_transform(x_train)\n",
    "y_test=scaler.transform(x_test)"
   ]
  },
  {
   "cell_type": "code",
   "execution_count": 31,
   "id": "2b749b75",
   "metadata": {},
   "outputs": [
    {
     "name": "stderr",
     "output_type": "stream",
     "text": [
      "C:\\Users\\ACER\\anaconda3\\Lib\\site-packages\\keras\\src\\layers\\core\\dense.py:87: UserWarning: Do not pass an `input_shape`/`input_dim` argument to a layer. When using Sequential models, prefer using an `Input(shape)` object as the first layer in the model instead.\n",
      "  super().__init__(activity_regularizer=activity_regularizer, **kwargs)\n"
     ]
    }
   ],
   "source": [
    "model=Sequential([Dense(64,activation='relu',input_shape=(x_train.shape[1],)),Dense(32,activation='relu'),\n",
    "                 Dense(1)])   #64,32, nuerons"
   ]
  },
  {
   "cell_type": "code",
   "execution_count": 32,
   "id": "1006dc5d",
   "metadata": {},
   "outputs": [],
   "source": [
    "model.compile(optimizer='adam',loss='mse',metrics=['mae'])    "
   ]
  },
  {
   "cell_type": "code",
   "execution_count": 34,
   "id": "2c907e8a",
   "metadata": {},
   "outputs": [
    {
     "name": "stdout",
     "output_type": "stream",
     "text": [
      "\u001b[1m25/25\u001b[0m \u001b[32m━━━━━━━━━━━━━━━━━━━━\u001b[0m\u001b[37m\u001b[0m \u001b[1m2s\u001b[0m 6ms/step - loss: 89008.2578 - mae: 268.5265\n"
     ]
    }
   ],
   "source": [
    "history=model.fit(x_train,y_train)"
   ]
  },
  {
   "cell_type": "code",
   "execution_count": 37,
   "id": "fc6a067b",
   "metadata": {},
   "outputs": [
    {
     "name": "stdout",
     "output_type": "stream",
     "text": [
      "Epoch 1/50\n",
      "\u001b[1m20/20\u001b[0m \u001b[32m━━━━━━━━━━━━━━━━━━━━\u001b[0m\u001b[37m\u001b[0m \u001b[1m1s\u001b[0m 25ms/step - loss: 89127.4844 - mae: 269.0519 - val_loss: 83320.9531 - val_mae: 258.2757\n",
      "Epoch 2/50\n",
      "\u001b[1m20/20\u001b[0m \u001b[32m━━━━━━━━━━━━━━━━━━━━\u001b[0m\u001b[37m\u001b[0m \u001b[1m0s\u001b[0m 10ms/step - loss: 89506.2578 - mae: 268.6111 - val_loss: 82611.5781 - val_mae: 256.8875\n",
      "Epoch 3/50\n",
      "\u001b[1m20/20\u001b[0m \u001b[32m━━━━━━━━━━━━━━━━━━━━\u001b[0m\u001b[37m\u001b[0m \u001b[1m0s\u001b[0m 11ms/step - loss: 85618.0547 - mae: 262.4054 - val_loss: 81483.2734 - val_mae: 254.6666\n",
      "Epoch 4/50\n",
      "\u001b[1m20/20\u001b[0m \u001b[32m━━━━━━━━━━━━━━━━━━━━\u001b[0m\u001b[37m\u001b[0m \u001b[1m0s\u001b[0m 10ms/step - loss: 89246.3828 - mae: 270.0385 - val_loss: 79718.3750 - val_mae: 251.1543\n",
      "Epoch 5/50\n",
      "\u001b[1m20/20\u001b[0m \u001b[32m━━━━━━━━━━━━━━━━━━━━\u001b[0m\u001b[37m\u001b[0m \u001b[1m0s\u001b[0m 10ms/step - loss: 86326.2812 - mae: 263.6203 - val_loss: 77167.1719 - val_mae: 245.9854\n",
      "Epoch 6/50\n",
      "\u001b[1m20/20\u001b[0m \u001b[32m━━━━━━━━━━━━━━━━━━━━\u001b[0m\u001b[37m\u001b[0m \u001b[1m0s\u001b[0m 10ms/step - loss: 84639.1562 - mae: 262.0285 - val_loss: 73629.9219 - val_mae: 238.6343\n",
      "Epoch 7/50\n",
      "\u001b[1m20/20\u001b[0m \u001b[32m━━━━━━━━━━━━━━━━━━━━\u001b[0m\u001b[37m\u001b[0m \u001b[1m0s\u001b[0m 11ms/step - loss: 78095.5469 - mae: 247.4175 - val_loss: 69100.8906 - val_mae: 228.8755\n",
      "Epoch 8/50\n",
      "\u001b[1m20/20\u001b[0m \u001b[32m━━━━━━━━━━━━━━━━━━━━\u001b[0m\u001b[37m\u001b[0m \u001b[1m0s\u001b[0m 11ms/step - loss: 73446.0078 - mae: 239.0208 - val_loss: 63535.8945 - val_mae: 216.2877\n",
      "Epoch 9/50\n",
      "\u001b[1m20/20\u001b[0m \u001b[32m━━━━━━━━━━━━━━━━━━━━\u001b[0m\u001b[37m\u001b[0m \u001b[1m0s\u001b[0m 11ms/step - loss: 66829.0000 - mae: 225.0838 - val_loss: 57197.3828 - val_mae: 201.4420\n",
      "Epoch 10/50\n",
      "\u001b[1m20/20\u001b[0m \u001b[32m━━━━━━━━━━━━━━━━━━━━\u001b[0m\u001b[37m\u001b[0m \u001b[1m0s\u001b[0m 12ms/step - loss: 61852.0156 - mae: 211.0490 - val_loss: 50251.7695 - val_mae: 184.9180\n",
      "Epoch 11/50\n",
      "\u001b[1m20/20\u001b[0m \u001b[32m━━━━━━━━━━━━━━━━━━━━\u001b[0m\u001b[37m\u001b[0m \u001b[1m0s\u001b[0m 12ms/step - loss: 51591.7266 - mae: 189.3001 - val_loss: 43188.5742 - val_mae: 169.1034\n",
      "Epoch 12/50\n",
      "\u001b[1m20/20\u001b[0m \u001b[32m━━━━━━━━━━━━━━━━━━━━\u001b[0m\u001b[37m\u001b[0m \u001b[1m0s\u001b[0m 12ms/step - loss: 44606.3359 - mae: 173.9114 - val_loss: 36412.0820 - val_mae: 153.5139\n",
      "Epoch 13/50\n",
      "\u001b[1m20/20\u001b[0m \u001b[32m━━━━━━━━━━━━━━━━━━━━\u001b[0m\u001b[37m\u001b[0m \u001b[1m0s\u001b[0m 14ms/step - loss: 40846.8008 - mae: 165.6227 - val_loss: 30324.9844 - val_mae: 138.7582\n",
      "Epoch 14/50\n",
      "\u001b[1m20/20\u001b[0m \u001b[32m━━━━━━━━━━━━━━━━━━━━\u001b[0m\u001b[37m\u001b[0m \u001b[1m1s\u001b[0m 14ms/step - loss: 31319.2812 - mae: 142.6413 - val_loss: 25586.6758 - val_mae: 127.7757\n",
      "Epoch 15/50\n",
      "\u001b[1m20/20\u001b[0m \u001b[32m━━━━━━━━━━━━━━━━━━━━\u001b[0m\u001b[37m\u001b[0m \u001b[1m0s\u001b[0m 14ms/step - loss: 26579.7500 - mae: 133.9431 - val_loss: 22208.2227 - val_mae: 120.3756\n",
      "Epoch 16/50\n",
      "\u001b[1m20/20\u001b[0m \u001b[32m━━━━━━━━━━━━━━━━━━━━\u001b[0m\u001b[37m\u001b[0m \u001b[1m0s\u001b[0m 13ms/step - loss: 23079.5234 - mae: 125.8198 - val_loss: 20065.5371 - val_mae: 117.1486\n",
      "Epoch 17/50\n",
      "\u001b[1m20/20\u001b[0m \u001b[32m━━━━━━━━━━━━━━━━━━━━\u001b[0m\u001b[37m\u001b[0m \u001b[1m0s\u001b[0m 13ms/step - loss: 19260.4004 - mae: 115.7235 - val_loss: 18935.5645 - val_mae: 115.7439\n",
      "Epoch 18/50\n",
      "\u001b[1m20/20\u001b[0m \u001b[32m━━━━━━━━━━━━━━━━━━━━\u001b[0m\u001b[37m\u001b[0m \u001b[1m0s\u001b[0m 14ms/step - loss: 19442.8477 - mae: 118.5527 - val_loss: 18465.5625 - val_mae: 115.4254\n",
      "Epoch 19/50\n",
      "\u001b[1m20/20\u001b[0m \u001b[32m━━━━━━━━━━━━━━━━━━━━\u001b[0m\u001b[37m\u001b[0m \u001b[1m0s\u001b[0m 14ms/step - loss: 18336.6445 - mae: 115.9430 - val_loss: 18336.8691 - val_mae: 115.5707\n",
      "Epoch 20/50\n",
      "\u001b[1m20/20\u001b[0m \u001b[32m━━━━━━━━━━━━━━━━━━━━\u001b[0m\u001b[37m\u001b[0m \u001b[1m0s\u001b[0m 11ms/step - loss: 18004.4082 - mae: 115.8571 - val_loss: 18368.0645 - val_mae: 115.9244\n",
      "Epoch 21/50\n",
      "\u001b[1m20/20\u001b[0m \u001b[32m━━━━━━━━━━━━━━━━━━━━\u001b[0m\u001b[37m\u001b[0m \u001b[1m0s\u001b[0m 13ms/step - loss: 17233.7559 - mae: 113.2519 - val_loss: 18372.3906 - val_mae: 116.1677\n",
      "Epoch 22/50\n",
      "\u001b[1m20/20\u001b[0m \u001b[32m━━━━━━━━━━━━━━━━━━━━\u001b[0m\u001b[37m\u001b[0m \u001b[1m0s\u001b[0m 13ms/step - loss: 17948.3301 - mae: 116.5572 - val_loss: 18383.9844 - val_mae: 116.3973\n",
      "Epoch 23/50\n",
      "\u001b[1m20/20\u001b[0m \u001b[32m━━━━━━━━━━━━━━━━━━━━\u001b[0m\u001b[37m\u001b[0m \u001b[1m0s\u001b[0m 14ms/step - loss: 17192.4512 - mae: 114.2389 - val_loss: 18426.9785 - val_mae: 116.5409\n",
      "Epoch 24/50\n",
      "\u001b[1m20/20\u001b[0m \u001b[32m━━━━━━━━━━━━━━━━━━━━\u001b[0m\u001b[37m\u001b[0m \u001b[1m0s\u001b[0m 14ms/step - loss: 17629.5176 - mae: 115.7237 - val_loss: 18411.9805 - val_mae: 116.5169\n",
      "Epoch 25/50\n",
      "\u001b[1m20/20\u001b[0m \u001b[32m━━━━━━━━━━━━━━━━━━━━\u001b[0m\u001b[37m\u001b[0m \u001b[1m0s\u001b[0m 15ms/step - loss: 17297.4941 - mae: 113.5185 - val_loss: 18397.4316 - val_mae: 116.4646\n",
      "Epoch 26/50\n",
      "\u001b[1m20/20\u001b[0m \u001b[32m━━━━━━━━━━━━━━━━━━━━\u001b[0m\u001b[37m\u001b[0m \u001b[1m0s\u001b[0m 15ms/step - loss: 17341.5508 - mae: 115.2934 - val_loss: 18409.9570 - val_mae: 116.5551\n",
      "Epoch 27/50\n",
      "\u001b[1m20/20\u001b[0m \u001b[32m━━━━━━━━━━━━━━━━━━━━\u001b[0m\u001b[37m\u001b[0m \u001b[1m0s\u001b[0m 14ms/step - loss: 16762.0605 - mae: 112.1903 - val_loss: 18391.4531 - val_mae: 116.5746\n",
      "Epoch 28/50\n",
      "\u001b[1m20/20\u001b[0m \u001b[32m━━━━━━━━━━━━━━━━━━━━\u001b[0m\u001b[37m\u001b[0m \u001b[1m0s\u001b[0m 14ms/step - loss: 16773.6523 - mae: 112.3251 - val_loss: 18391.8906 - val_mae: 116.6088\n",
      "Epoch 29/50\n",
      "\u001b[1m20/20\u001b[0m \u001b[32m━━━━━━━━━━━━━━━━━━━━\u001b[0m\u001b[37m\u001b[0m \u001b[1m0s\u001b[0m 13ms/step - loss: 17749.8750 - mae: 115.2939 - val_loss: 18427.0352 - val_mae: 116.6923\n",
      "Epoch 30/50\n",
      "\u001b[1m20/20\u001b[0m \u001b[32m━━━━━━━━━━━━━━━━━━━━\u001b[0m\u001b[37m\u001b[0m \u001b[1m0s\u001b[0m 13ms/step - loss: 17463.2012 - mae: 114.7894 - val_loss: 18371.9688 - val_mae: 116.6323\n",
      "Epoch 31/50\n",
      "\u001b[1m20/20\u001b[0m \u001b[32m━━━━━━━━━━━━━━━━━━━━\u001b[0m\u001b[37m\u001b[0m \u001b[1m0s\u001b[0m 14ms/step - loss: 17398.1543 - mae: 114.5608 - val_loss: 18369.5879 - val_mae: 116.6214\n",
      "Epoch 32/50\n",
      "\u001b[1m20/20\u001b[0m \u001b[32m━━━━━━━━━━━━━━━━━━━━\u001b[0m\u001b[37m\u001b[0m \u001b[1m0s\u001b[0m 14ms/step - loss: 16799.7129 - mae: 111.2272 - val_loss: 18374.3164 - val_mae: 116.5716\n",
      "Epoch 33/50\n",
      "\u001b[1m20/20\u001b[0m \u001b[32m━━━━━━━━━━━━━━━━━━━━\u001b[0m\u001b[37m\u001b[0m \u001b[1m0s\u001b[0m 12ms/step - loss: 16733.1387 - mae: 111.8116 - val_loss: 18377.5039 - val_mae: 116.6278\n",
      "Epoch 34/50\n",
      "\u001b[1m20/20\u001b[0m \u001b[32m━━━━━━━━━━━━━━━━━━━━\u001b[0m\u001b[37m\u001b[0m \u001b[1m0s\u001b[0m 13ms/step - loss: 16874.1699 - mae: 113.2727 - val_loss: 18349.8164 - val_mae: 116.5492\n",
      "Epoch 35/50\n",
      "\u001b[1m20/20\u001b[0m \u001b[32m━━━━━━━━━━━━━━━━━━━━\u001b[0m\u001b[37m\u001b[0m \u001b[1m0s\u001b[0m 13ms/step - loss: 16925.0723 - mae: 112.5064 - val_loss: 18331.7285 - val_mae: 116.5117\n",
      "Epoch 36/50\n",
      "\u001b[1m20/20\u001b[0m \u001b[32m━━━━━━━━━━━━━━━━━━━━\u001b[0m\u001b[37m\u001b[0m \u001b[1m0s\u001b[0m 11ms/step - loss: 16746.9434 - mae: 112.2947 - val_loss: 18342.3945 - val_mae: 116.5637\n",
      "Epoch 37/50\n",
      "\u001b[1m20/20\u001b[0m \u001b[32m━━━━━━━━━━━━━━━━━━━━\u001b[0m\u001b[37m\u001b[0m \u001b[1m0s\u001b[0m 11ms/step - loss: 17390.7578 - mae: 115.5177 - val_loss: 18340.1582 - val_mae: 116.5669\n",
      "Epoch 38/50\n",
      "\u001b[1m20/20\u001b[0m \u001b[32m━━━━━━━━━━━━━━━━━━━━\u001b[0m\u001b[37m\u001b[0m \u001b[1m0s\u001b[0m 11ms/step - loss: 16089.2695 - mae: 108.9556 - val_loss: 18317.4355 - val_mae: 116.4943\n",
      "Epoch 39/50\n",
      "\u001b[1m20/20\u001b[0m \u001b[32m━━━━━━━━━━━━━━━━━━━━\u001b[0m\u001b[37m\u001b[0m \u001b[1m0s\u001b[0m 11ms/step - loss: 17676.4980 - mae: 116.1022 - val_loss: 18383.7793 - val_mae: 116.6351\n",
      "Epoch 40/50\n",
      "\u001b[1m20/20\u001b[0m \u001b[32m━━━━━━━━━━━━━━━━━━━━\u001b[0m\u001b[37m\u001b[0m \u001b[1m0s\u001b[0m 12ms/step - loss: 16299.5781 - mae: 110.1184 - val_loss: 18334.8008 - val_mae: 116.5327\n",
      "Epoch 41/50\n",
      "\u001b[1m20/20\u001b[0m \u001b[32m━━━━━━━━━━━━━━━━━━━━\u001b[0m\u001b[37m\u001b[0m \u001b[1m0s\u001b[0m 12ms/step - loss: 16933.9922 - mae: 113.0433 - val_loss: 18325.8047 - val_mae: 116.5423\n",
      "Epoch 42/50\n",
      "\u001b[1m20/20\u001b[0m \u001b[32m━━━━━━━━━━━━━━━━━━━━\u001b[0m\u001b[37m\u001b[0m \u001b[1m0s\u001b[0m 12ms/step - loss: 18077.5762 - mae: 117.3939 - val_loss: 18325.4121 - val_mae: 116.4645\n",
      "Epoch 43/50\n",
      "\u001b[1m20/20\u001b[0m \u001b[32m━━━━━━━━━━━━━━━━━━━━\u001b[0m\u001b[37m\u001b[0m \u001b[1m0s\u001b[0m 14ms/step - loss: 16620.5820 - mae: 111.6795 - val_loss: 18296.4688 - val_mae: 116.5108\n",
      "Epoch 44/50\n",
      "\u001b[1m20/20\u001b[0m \u001b[32m━━━━━━━━━━━━━━━━━━━━\u001b[0m\u001b[37m\u001b[0m \u001b[1m0s\u001b[0m 13ms/step - loss: 16853.5742 - mae: 113.9411 - val_loss: 18301.8262 - val_mae: 116.5343\n",
      "Epoch 45/50\n",
      "\u001b[1m20/20\u001b[0m \u001b[32m━━━━━━━━━━━━━━━━━━━━\u001b[0m\u001b[37m\u001b[0m \u001b[1m0s\u001b[0m 13ms/step - loss: 16244.9844 - mae: 110.3343 - val_loss: 18274.3359 - val_mae: 116.4380\n",
      "Epoch 46/50\n",
      "\u001b[1m20/20\u001b[0m \u001b[32m━━━━━━━━━━━━━━━━━━━━\u001b[0m\u001b[37m\u001b[0m \u001b[1m0s\u001b[0m 13ms/step - loss: 16696.2363 - mae: 111.9732 - val_loss: 18293.7773 - val_mae: 116.5098\n",
      "Epoch 47/50\n",
      "\u001b[1m20/20\u001b[0m \u001b[32m━━━━━━━━━━━━━━━━━━━━\u001b[0m\u001b[37m\u001b[0m \u001b[1m0s\u001b[0m 13ms/step - loss: 17980.9961 - mae: 116.3864 - val_loss: 18272.7793 - val_mae: 116.4473\n",
      "Epoch 48/50\n",
      "\u001b[1m20/20\u001b[0m \u001b[32m━━━━━━━━━━━━━━━━━━━━\u001b[0m\u001b[37m\u001b[0m \u001b[1m0s\u001b[0m 13ms/step - loss: 16427.6777 - mae: 110.0135 - val_loss: 18235.5156 - val_mae: 116.3381\n",
      "Epoch 49/50\n",
      "\u001b[1m20/20\u001b[0m \u001b[32m━━━━━━━━━━━━━━━━━━━━\u001b[0m\u001b[37m\u001b[0m \u001b[1m0s\u001b[0m 13ms/step - loss: 16493.3340 - mae: 110.8247 - val_loss: 18283.3691 - val_mae: 116.5105\n",
      "Epoch 50/50\n",
      "\u001b[1m20/20\u001b[0m \u001b[32m━━━━━━━━━━━━━━━━━━━━\u001b[0m\u001b[37m\u001b[0m \u001b[1m0s\u001b[0m 12ms/step - loss: 16233.5723 - mae: 110.5611 - val_loss: 18267.4648 - val_mae: 116.4218\n"
     ]
    }
   ],
   "source": [
    "history = model.fit(x_train,y_train,epochs=50,batch_size=32,validation_split=0.2,verbose=1)\n",
    "#"
   ]
  },
  {
   "cell_type": "code",
   "execution_count": 39,
   "id": "2650cc10",
   "metadata": {},
   "outputs": [
    {
     "ename": "ValueError",
     "evalue": "Cannot take the length of shape with unknown rank.",
     "output_type": "error",
     "traceback": [
      "\u001b[1;31m---------------------------------------------------------------------------\u001b[0m",
      "\u001b[1;31mValueError\u001b[0m                                Traceback (most recent call last)",
      "Cell \u001b[1;32mIn[39], line 1\u001b[0m\n\u001b[1;32m----> 1\u001b[0m test_loss,test_mae \u001b[38;5;241m=\u001b[39m model\u001b[38;5;241m.\u001b[39mevaluate(x_test,y_test)\n\u001b[0;32m      2\u001b[0m \u001b[38;5;28mprint\u001b[39m(\u001b[38;5;124mf\u001b[39m\u001b[38;5;124m\"\u001b[39m\u001b[38;5;124mTest Mean Absolute Error: \u001b[39m\u001b[38;5;132;01m{\u001b[39;00mtest_mae\u001b[38;5;132;01m:\u001b[39;00m\u001b[38;5;124m.2f\u001b[39m\u001b[38;5;132;01m}\u001b[39;00m\u001b[38;5;124m\"\u001b[39m)\n",
      "File \u001b[1;32m~\\anaconda3\\Lib\\site-packages\\keras\\src\\utils\\traceback_utils.py:122\u001b[0m, in \u001b[0;36mfilter_traceback.<locals>.error_handler\u001b[1;34m(*args, **kwargs)\u001b[0m\n\u001b[0;32m    119\u001b[0m     filtered_tb \u001b[38;5;241m=\u001b[39m _process_traceback_frames(e\u001b[38;5;241m.\u001b[39m__traceback__)\n\u001b[0;32m    120\u001b[0m     \u001b[38;5;66;03m# To get the full stack trace, call:\u001b[39;00m\n\u001b[0;32m    121\u001b[0m     \u001b[38;5;66;03m# `keras.config.disable_traceback_filtering()`\u001b[39;00m\n\u001b[1;32m--> 122\u001b[0m     \u001b[38;5;28;01mraise\u001b[39;00m e\u001b[38;5;241m.\u001b[39mwith_traceback(filtered_tb) \u001b[38;5;28;01mfrom\u001b[39;00m \u001b[38;5;28;01mNone\u001b[39;00m\n\u001b[0;32m    123\u001b[0m \u001b[38;5;28;01mfinally\u001b[39;00m:\n\u001b[0;32m    124\u001b[0m     \u001b[38;5;28;01mdel\u001b[39;00m filtered_tb\n",
      "File \u001b[1;32m~\\anaconda3\\Lib\\site-packages\\optree\\ops.py:752\u001b[0m, in \u001b[0;36mtree_map\u001b[1;34m(func, tree, is_leaf, none_is_leaf, namespace, *rests)\u001b[0m\n\u001b[0;32m    750\u001b[0m leaves, treespec \u001b[38;5;241m=\u001b[39m _C\u001b[38;5;241m.\u001b[39mflatten(tree, is_leaf, none_is_leaf, namespace)\n\u001b[0;32m    751\u001b[0m flat_args \u001b[38;5;241m=\u001b[39m [leaves] \u001b[38;5;241m+\u001b[39m [treespec\u001b[38;5;241m.\u001b[39mflatten_up_to(r) \u001b[38;5;28;01mfor\u001b[39;00m r \u001b[38;5;129;01min\u001b[39;00m rests]\n\u001b[1;32m--> 752\u001b[0m \u001b[38;5;28;01mreturn\u001b[39;00m treespec\u001b[38;5;241m.\u001b[39munflatten(\u001b[38;5;28mmap\u001b[39m(func, \u001b[38;5;241m*\u001b[39mflat_args))\n",
      "\u001b[1;31mValueError\u001b[0m: Cannot take the length of shape with unknown rank."
     ]
    }
   ],
   "source": [
    "test_loss,test_mae = model.evaluate(x_test,y_test,)\n",
    "print(f\"Test Mean Absolute Error: {test_mae:.2f}\")"
   ]
  },
  {
   "cell_type": "code",
   "execution_count": 40,
   "id": "ae15cbfc",
   "metadata": {},
   "outputs": [
    {
     "data": {
      "image/png": "[encoded data removed]",
      "text/plain": [
       "<Figure size 640x480 with 1 Axes>"
      ]
     },
     "metadata": {},
     "output_type": "display_data"
    }
   ],
   "source": [
    "plt.plot(history.history['loss'],label='Training Loss')\n",
    "plt.plot(history.history['val_loss'],label='Validaton Loss')\n",
    "plt.xlabel('Epochs')\n",
    "plt.ylabel('Loss')\n",
    "plt.title('Model Training Performance')\n",
    "plt.legend()\n",
    "plt.show()"
   ]
  },
  {
   "cell_type": "code",
   "execution_count": 41,
   "id": "b98d7e13",
   "metadata": {},
   "outputs": [
    {
     "name": "stdout",
     "output_type": "stream",
     "text": [
      "\u001b[1m7/7\u001b[0m \u001b[32m━━━━━━━━━━━━━━━━━━━━\u001b[0m\u001b[37m\u001b[0m \u001b[1m0s\u001b[0m 19ms/step\n"
     ]
    },
    {
     "data": {
      "text/plain": [
       "array([[34626.254],\n",
       "       [50097.48 ],\n",
       "       [59631.51 ],\n",
       "       [36621.168],\n",
       "       [14132.818],\n",
       "       [52960.082],\n",
       "       [ 6951.461],\n",
       "       [53758.445],\n",
       "       [55571.12 ],\n",
       "       [50297.355],\n",
       "       [33621.48 ],\n",
       "       [61568.19 ],\n",
       "       [60194.207],\n",
       "       [48134.2  ],\n",
       "       [17015.596],\n",
       "       [56257.215],\n",
       "       [33094.594],\n",
       "       [20190.318],\n",
       "       [49895.87 ],\n",
       "       [51391.656],\n",
       "       [39627.375],\n",
       "       [11402.958],\n",
       "       [41334.605],\n",
       "       [50852.19 ],\n",
       "       [16175.092],\n",
       "       [20343.809],\n",
       "       [50686.848],\n",
       "       [12920.608],\n",
       "       [60278.723],\n",
       "       [41442.945],\n",
       "       [22480.732],\n",
       "       [11190.421],\n",
       "       [19460.58 ],\n",
       "       [49843.895],\n",
       "       [20337.62 ],\n",
       "       [13283.761],\n",
       "       [29447.486],\n",
       "       [30987.412],\n",
       "       [28649.889],\n",
       "       [62203.52 ],\n",
       "       [15376.517],\n",
       "       [63279.766],\n",
       "       [48181.63 ],\n",
       "       [22643.303],\n",
       "       [53816.188],\n",
       "       [35498.598],\n",
       "       [64585.285],\n",
       "       [39915.098],\n",
       "       [61038.805],\n",
       "       [13764.709],\n",
       "       [25224.596],\n",
       "       [20554.78 ],\n",
       "       [36492.285],\n",
       "       [49996.812],\n",
       "       [26790.4  ],\n",
       "       [18087.533],\n",
       "       [56104.355],\n",
       "       [38623.914],\n",
       "       [15999.743],\n",
       "       [26958.137],\n",
       "       [44136.176],\n",
       "       [45427.426],\n",
       "       [15694.884],\n",
       "       [42922.74 ],\n",
       "       [19359.467],\n",
       "       [51740.39 ],\n",
       "       [10938.173],\n",
       "       [30590.678],\n",
       "       [47629.95 ],\n",
       "       [26542.992],\n",
       "       [ 8455.448],\n",
       "       [57792.94 ],\n",
       "       [62321.945],\n",
       "       [54562.62 ],\n",
       "       [29492.469],\n",
       "       [18380.328],\n",
       "       [54629.695],\n",
       "       [36835.973],\n",
       "       [18723.51 ],\n",
       "       [11680.361],\n",
       "       [29739.064],\n",
       "       [ 7796.101],\n",
       "       [54182.19 ],\n",
       "       [62400.73 ],\n",
       "       [53271.28 ],\n",
       "       [24086.717],\n",
       "       [37176.418],\n",
       "       [63913.895],\n",
       "       [46779.453],\n",
       "       [37201.777],\n",
       "       [10078.56 ],\n",
       "       [46128.266],\n",
       "       [22283.38 ],\n",
       "       [48670.723],\n",
       "       [33969.133],\n",
       "       [20173.59 ],\n",
       "       [35308.285],\n",
       "       [41053.605],\n",
       "       [43029.73 ],\n",
       "       [33648.188],\n",
       "       [26210.506],\n",
       "       [31536.78 ],\n",
       "       [31068.521],\n",
       "       [46657.945],\n",
       "       [34899.805],\n",
       "       [50719.49 ],\n",
       "       [15027.319],\n",
       "       [10048.185],\n",
       "       [50974.973],\n",
       "       [26941.56 ],\n",
       "       [63406.977],\n",
       "       [26307.912],\n",
       "       [60516.81 ],\n",
       "       [27549.24 ],\n",
       "       [30643.85 ],\n",
       "       [50749.707],\n",
       "       [36515.465],\n",
       "       [10847.339],\n",
       "       [20277.17 ],\n",
       "       [63400.254],\n",
       "       [46357.004],\n",
       "       [43259.69 ],\n",
       "       [42998.344],\n",
       "       [18572.014],\n",
       "       [62641.91 ],\n",
       "       [33940.84 ],\n",
       "       [56776.934],\n",
       "       [44179.395],\n",
       "       [45912.035],\n",
       "       [24548.033],\n",
       "       [45818.176],\n",
       "       [11306.602],\n",
       "       [10590.416],\n",
       "       [32850.07 ],\n",
       "       [32369.58 ],\n",
       "       [62789.273],\n",
       "       [22960.127],\n",
       "       [13598.757],\n",
       "       [28519.646],\n",
       "       [24806.254],\n",
       "       [50113.684],\n",
       "       [30328.158],\n",
       "       [55087.473],\n",
       "       [17895.896],\n",
       "       [31549.068],\n",
       "       [62793.855],\n",
       "       [47024.05 ],\n",
       "       [48002.09 ],\n",
       "       [53757.734],\n",
       "       [10532.019],\n",
       "       [34130.207],\n",
       "       [55136.777],\n",
       "       [38872.73 ],\n",
       "       [41432.527],\n",
       "       [58790.42 ],\n",
       "       [43378.59 ],\n",
       "       [34247.95 ],\n",
       "       [45276.37 ],\n",
       "       [24643.783],\n",
       "       [57880.97 ],\n",
       "       [44367.35 ],\n",
       "       [31966.682],\n",
       "       [65013.33 ],\n",
       "       [51209.86 ],\n",
       "       [27963.846],\n",
       "       [ 8229.   ],\n",
       "       [28801.434],\n",
       "       [ 9067.654],\n",
       "       [19448.572],\n",
       "       [48461.723],\n",
       "       [22425.65 ],\n",
       "       [30176.05 ],\n",
       "       [44253.57 ],\n",
       "       [57480.707],\n",
       "       [27558.25 ],\n",
       "       [22387.434],\n",
       "       [26800.451],\n",
       "       [59006.844],\n",
       "       [54236.754],\n",
       "       [28896.22 ],\n",
       "       [45221.668],\n",
       "       [20708.273],\n",
       "       [18040.955],\n",
       "       [63111.094],\n",
       "       [44751.184],\n",
       "       [49624.043],\n",
       "       [12213.425],\n",
       "       [43490.004],\n",
       "       [12394.075],\n",
       "       [57835.023],\n",
       "       [16177.655],\n",
       "       [19628.605],\n",
       "       [26796.078],\n",
       "       [29326.193],\n",
       "       [47493.934],\n",
       "       [20918.06 ],\n",
       "       [16705.012],\n",
       "       [32332.123],\n",
       "       [53135.535],\n",
       "       [15752.813]], dtype=float32)"
      ]
     },
     "execution_count": 41,
     "metadata": {},
     "output_type": "execute_result"
    }
   ],
   "source": [
    "predictions=model.predict(x_test)\n",
    "predictions"
   ]
  },
  {
   "cell_type": "code",
   "execution_count": 44,
   "id": "44b2df25",
   "metadata": {},
   "outputs": [
    {
     "ename": "ValueError",
     "evalue": "x and y must be the same size",
     "output_type": "error",
     "traceback": [
      "\u001b[1;31m---------------------------------------------------------------------------\u001b[0m",
      "\u001b[1;31mValueError\u001b[0m                                Traceback (most recent call last)",
      "Cell \u001b[1;32mIn[44], line 1\u001b[0m\n\u001b[1;32m----> 1\u001b[0m plt\u001b[38;5;241m.\u001b[39mscatter(y_test,predictions)\n\u001b[0;32m      2\u001b[0m plt\u001b[38;5;241m.\u001b[39mxlabel(\u001b[38;5;124m'\u001b[39m\u001b[38;5;124mTrue Energy Consumption\u001b[39m\u001b[38;5;124m'\u001b[39m)\n\u001b[0;32m      3\u001b[0m plt\u001b[38;5;241m.\u001b[39mylabel(\u001b[38;5;124m'\u001b[39m\u001b[38;5;124mPredicted Energy Consumption\u001b[39m\u001b[38;5;124m'\u001b[39m)\n",
      "File \u001b[1;32m~\\anaconda3\\Lib\\site-packages\\matplotlib\\pyplot.py:2862\u001b[0m, in \u001b[0;36mscatter\u001b[1;34m(x, y, s, c, marker, cmap, norm, vmin, vmax, alpha, linewidths, edgecolors, plotnonfinite, data, **kwargs)\u001b[0m\n\u001b[0;32m   2857\u001b[0m \u001b[38;5;129m@_copy_docstring_and_deprecators\u001b[39m(Axes\u001b[38;5;241m.\u001b[39mscatter)\n\u001b[0;32m   2858\u001b[0m \u001b[38;5;28;01mdef\u001b[39;00m \u001b[38;5;21mscatter\u001b[39m(\n\u001b[0;32m   2859\u001b[0m         x, y, s\u001b[38;5;241m=\u001b[39m\u001b[38;5;28;01mNone\u001b[39;00m, c\u001b[38;5;241m=\u001b[39m\u001b[38;5;28;01mNone\u001b[39;00m, marker\u001b[38;5;241m=\u001b[39m\u001b[38;5;28;01mNone\u001b[39;00m, cmap\u001b[38;5;241m=\u001b[39m\u001b[38;5;28;01mNone\u001b[39;00m, norm\u001b[38;5;241m=\u001b[39m\u001b[38;5;28;01mNone\u001b[39;00m,\n\u001b[0;32m   2860\u001b[0m         vmin\u001b[38;5;241m=\u001b[39m\u001b[38;5;28;01mNone\u001b[39;00m, vmax\u001b[38;5;241m=\u001b[39m\u001b[38;5;28;01mNone\u001b[39;00m, alpha\u001b[38;5;241m=\u001b[39m\u001b[38;5;28;01mNone\u001b[39;00m, linewidths\u001b[38;5;241m=\u001b[39m\u001b[38;5;28;01mNone\u001b[39;00m, \u001b[38;5;241m*\u001b[39m,\n\u001b[0;32m   2861\u001b[0m         edgecolors\u001b[38;5;241m=\u001b[39m\u001b[38;5;28;01mNone\u001b[39;00m, plotnonfinite\u001b[38;5;241m=\u001b[39m\u001b[38;5;28;01mFalse\u001b[39;00m, data\u001b[38;5;241m=\u001b[39m\u001b[38;5;28;01mNone\u001b[39;00m, \u001b[38;5;241m*\u001b[39m\u001b[38;5;241m*\u001b[39mkwargs):\n\u001b[1;32m-> 2862\u001b[0m     __ret \u001b[38;5;241m=\u001b[39m gca()\u001b[38;5;241m.\u001b[39mscatter(\n\u001b[0;32m   2863\u001b[0m         x, y, s\u001b[38;5;241m=\u001b[39ms, c\u001b[38;5;241m=\u001b[39mc, marker\u001b[38;5;241m=\u001b[39mmarker, cmap\u001b[38;5;241m=\u001b[39mcmap, norm\u001b[38;5;241m=\u001b[39mnorm,\n\u001b[0;32m   2864\u001b[0m         vmin\u001b[38;5;241m=\u001b[39mvmin, vmax\u001b[38;5;241m=\u001b[39mvmax, alpha\u001b[38;5;241m=\u001b[39malpha, linewidths\u001b[38;5;241m=\u001b[39mlinewidths,\n\u001b[0;32m   2865\u001b[0m         edgecolors\u001b[38;5;241m=\u001b[39medgecolors, plotnonfinite\u001b[38;5;241m=\u001b[39mplotnonfinite,\n\u001b[0;32m   2866\u001b[0m         \u001b[38;5;241m*\u001b[39m\u001b[38;5;241m*\u001b[39m({\u001b[38;5;124m\"\u001b[39m\u001b[38;5;124mdata\u001b[39m\u001b[38;5;124m\"\u001b[39m: data} \u001b[38;5;28;01mif\u001b[39;00m data \u001b[38;5;129;01mis\u001b[39;00m \u001b[38;5;129;01mnot\u001b[39;00m \u001b[38;5;28;01mNone\u001b[39;00m \u001b[38;5;28;01melse\u001b[39;00m {}), \u001b[38;5;241m*\u001b[39m\u001b[38;5;241m*\u001b[39mkwargs)\n\u001b[0;32m   2867\u001b[0m     sci(__ret)\n\u001b[0;32m   2868\u001b[0m     \u001b[38;5;28;01mreturn\u001b[39;00m __ret\n",
      "File \u001b[1;32m~\\anaconda3\\Lib\\site-packages\\matplotlib\\__init__.py:1446\u001b[0m, in \u001b[0;36m_preprocess_data.<locals>.inner\u001b[1;34m(ax, data, *args, **kwargs)\u001b[0m\n\u001b[0;32m   1443\u001b[0m \u001b[38;5;129m@functools\u001b[39m\u001b[38;5;241m.\u001b[39mwraps(func)\n\u001b[0;32m   1444\u001b[0m \u001b[38;5;28;01mdef\u001b[39;00m \u001b[38;5;21minner\u001b[39m(ax, \u001b[38;5;241m*\u001b[39margs, data\u001b[38;5;241m=\u001b[39m\u001b[38;5;28;01mNone\u001b[39;00m, \u001b[38;5;241m*\u001b[39m\u001b[38;5;241m*\u001b[39mkwargs):\n\u001b[0;32m   1445\u001b[0m     \u001b[38;5;28;01mif\u001b[39;00m data \u001b[38;5;129;01mis\u001b[39;00m \u001b[38;5;28;01mNone\u001b[39;00m:\n\u001b[1;32m-> 1446\u001b[0m         \u001b[38;5;28;01mreturn\u001b[39;00m func(ax, \u001b[38;5;241m*\u001b[39m\u001b[38;5;28mmap\u001b[39m(sanitize_sequence, args), \u001b[38;5;241m*\u001b[39m\u001b[38;5;241m*\u001b[39mkwargs)\n\u001b[0;32m   1448\u001b[0m     bound \u001b[38;5;241m=\u001b[39m new_sig\u001b[38;5;241m.\u001b[39mbind(ax, \u001b[38;5;241m*\u001b[39margs, \u001b[38;5;241m*\u001b[39m\u001b[38;5;241m*\u001b[39mkwargs)\n\u001b[0;32m   1449\u001b[0m     auto_label \u001b[38;5;241m=\u001b[39m (bound\u001b[38;5;241m.\u001b[39marguments\u001b[38;5;241m.\u001b[39mget(label_namer)\n\u001b[0;32m   1450\u001b[0m                   \u001b[38;5;129;01mor\u001b[39;00m bound\u001b[38;5;241m.\u001b[39mkwargs\u001b[38;5;241m.\u001b[39mget(label_namer))\n",
      "File \u001b[1;32m~\\anaconda3\\Lib\\site-packages\\matplotlib\\axes\\_axes.py:4578\u001b[0m, in \u001b[0;36mAxes.scatter\u001b[1;34m(self, x, y, s, c, marker, cmap, norm, vmin, vmax, alpha, linewidths, edgecolors, plotnonfinite, **kwargs)\u001b[0m\n\u001b[0;32m   4576\u001b[0m y \u001b[38;5;241m=\u001b[39m np\u001b[38;5;241m.\u001b[39mma\u001b[38;5;241m.\u001b[39mravel(y)\n\u001b[0;32m   4577\u001b[0m \u001b[38;5;28;01mif\u001b[39;00m x\u001b[38;5;241m.\u001b[39msize \u001b[38;5;241m!=\u001b[39m y\u001b[38;5;241m.\u001b[39msize:\n\u001b[1;32m-> 4578\u001b[0m     \u001b[38;5;28;01mraise\u001b[39;00m \u001b[38;5;167;01mValueError\u001b[39;00m(\u001b[38;5;124m\"\u001b[39m\u001b[38;5;124mx and y must be the same size\u001b[39m\u001b[38;5;124m\"\u001b[39m)\n\u001b[0;32m   4580\u001b[0m \u001b[38;5;28;01mif\u001b[39;00m s \u001b[38;5;129;01mis\u001b[39;00m \u001b[38;5;28;01mNone\u001b[39;00m:\n\u001b[0;32m   4581\u001b[0m     s \u001b[38;5;241m=\u001b[39m (\u001b[38;5;241m20\u001b[39m \u001b[38;5;28;01mif\u001b[39;00m mpl\u001b[38;5;241m.\u001b[39mrcParams[\u001b[38;5;124m'\u001b[39m\u001b[38;5;124m_internal.classic_mode\u001b[39m\u001b[38;5;124m'\u001b[39m] \u001b[38;5;28;01melse\u001b[39;00m\n\u001b[0;32m   4582\u001b[0m          mpl\u001b[38;5;241m.\u001b[39mrcParams[\u001b[38;5;124m'\u001b[39m\u001b[38;5;124mlines.markersize\u001b[39m\u001b[38;5;124m'\u001b[39m] \u001b[38;5;241m*\u001b[39m\u001b[38;5;241m*\u001b[39m \u001b[38;5;241m2.0\u001b[39m)\n",
      "\u001b[1;31mValueError\u001b[0m: x and y must be the same size"
     ]
    },
    {
     "data": {
      "image/png": "[encoded data removed]",
      "text/plain": [
       "<Figure size 640x480 with 1 Axes>"
      ]
     },
     "metadata": {},
     "output_type": "display_data"
    }
   ],
   "source": [
    "plt.scatter(y_test,predictions)\n",
    "plt.xlabel('True Energy Consumption')\n",
    "plt.ylabel('Predicted Energy Consumption')\n",
    "plt.title('Predictions vs True Values')\n",
    "plt.show()"
   ]
  },
  {
   "cell_type": "code",
   "execution_count": 45,
   "id": "293e277c",
   "metadata": {},
   "outputs": [
    {
     "name": "stdout",
     "output_type": "stream",
     "text": [
      "(200, 4)\n",
      "(200, 4)\n"
     ]
    }
   ],
   "source": [
    "print(x_test.shape)\n",
    "print(y_test.shape)\n"
   ]
  },
  {
   "cell_type": "code",
   "execution_count": 46,
   "id": "bf13fa7c",
   "metadata": {},
   "outputs": [],
   "source": [
    "import numpy as np\n",
    "x_test = np.array(x_test)\n",
    "y_test = np.array(y_test)\n"
   ]
  },
  {
   "cell_type": "code",
   "execution_count": 47,
   "id": "c18c5551",
   "metadata": {},
   "outputs": [
    {
     "name": "stdout",
     "output_type": "stream",
     "text": [
      "(None, 4)\n",
      "(200, 4)\n"
     ]
    }
   ],
   "source": [
    "print(model.input_shape)  # Expected input shape\n",
    "print(x_test.shape)       # Current shape\n"
   ]
  },
  {
   "cell_type": "code",
   "execution_count": 48,
   "id": "3c0b36c8",
   "metadata": {},
   "outputs": [],
   "source": [
    "x_test = x_test[~np.isnan(x_test)]\n",
    "y_test = y_test[~np.isnan(y_test)]\n"
   ]
  },
  {
   "cell_type": "code",
   "execution_count": 49,
   "id": "37575087",
   "metadata": {},
   "outputs": [
    {
     "ename": "ValueError",
     "evalue": "Exception encountered when calling Sequential.call().\n\n\u001b[1mCannot take the length of shape with unknown rank.\u001b[0m\n\nArguments received by Sequential.call():\n  • inputs=tf.Tensor(shape=<unknown>, dtype=float32)\n  • training=False\n  • mask=None",
     "output_type": "error",
     "traceback": [
      "\u001b[1;31m---------------------------------------------------------------------------\u001b[0m",
      "\u001b[1;31mValueError\u001b[0m                                Traceback (most recent call last)",
      "Cell \u001b[1;32mIn[49], line 1\u001b[0m\n\u001b[1;32m----> 1\u001b[0m test_loss,test_mae \u001b[38;5;241m=\u001b[39m model\u001b[38;5;241m.\u001b[39mevaluate(x_test,y_test,)\n\u001b[0;32m      2\u001b[0m \u001b[38;5;28mprint\u001b[39m(\u001b[38;5;124mf\u001b[39m\u001b[38;5;124m\"\u001b[39m\u001b[38;5;124mTest Mean Absolute Error: \u001b[39m\u001b[38;5;132;01m{\u001b[39;00mtest_mae\u001b[38;5;132;01m:\u001b[39;00m\u001b[38;5;124m.2f\u001b[39m\u001b[38;5;132;01m}\u001b[39;00m\u001b[38;5;124m\"\u001b[39m)\n",
      "File \u001b[1;32m~\\anaconda3\\Lib\\site-packages\\keras\\src\\utils\\traceback_utils.py:122\u001b[0m, in \u001b[0;36mfilter_traceback.<locals>.error_handler\u001b[1;34m(*args, **kwargs)\u001b[0m\n\u001b[0;32m    119\u001b[0m     filtered_tb \u001b[38;5;241m=\u001b[39m _process_traceback_frames(e\u001b[38;5;241m.\u001b[39m__traceback__)\n\u001b[0;32m    120\u001b[0m     \u001b[38;5;66;03m# To get the full stack trace, call:\u001b[39;00m\n\u001b[0;32m    121\u001b[0m     \u001b[38;5;66;03m# `keras.config.disable_traceback_filtering()`\u001b[39;00m\n\u001b[1;32m--> 122\u001b[0m     \u001b[38;5;28;01mraise\u001b[39;00m e\u001b[38;5;241m.\u001b[39mwith_traceback(filtered_tb) \u001b[38;5;28;01mfrom\u001b[39;00m \u001b[38;5;28;01mNone\u001b[39;00m\n\u001b[0;32m    123\u001b[0m \u001b[38;5;28;01mfinally\u001b[39;00m:\n\u001b[0;32m    124\u001b[0m     \u001b[38;5;28;01mdel\u001b[39;00m filtered_tb\n",
      "File \u001b[1;32m~\\anaconda3\\Lib\\site-packages\\keras\\src\\utils\\traceback_utils.py:122\u001b[0m, in \u001b[0;36mfilter_traceback.<locals>.error_handler\u001b[1;34m(*args, **kwargs)\u001b[0m\n\u001b[0;32m    119\u001b[0m     filtered_tb \u001b[38;5;241m=\u001b[39m _process_traceback_frames(e\u001b[38;5;241m.\u001b[39m__traceback__)\n\u001b[0;32m    120\u001b[0m     \u001b[38;5;66;03m# To get the full stack trace, call:\u001b[39;00m\n\u001b[0;32m    121\u001b[0m     \u001b[38;5;66;03m# `keras.config.disable_traceback_filtering()`\u001b[39;00m\n\u001b[1;32m--> 122\u001b[0m     \u001b[38;5;28;01mraise\u001b[39;00m e\u001b[38;5;241m.\u001b[39mwith_traceback(filtered_tb) \u001b[38;5;28;01mfrom\u001b[39;00m \u001b[38;5;28;01mNone\u001b[39;00m\n\u001b[0;32m    123\u001b[0m \u001b[38;5;28;01mfinally\u001b[39;00m:\n\u001b[0;32m    124\u001b[0m     \u001b[38;5;28;01mdel\u001b[39;00m filtered_tb\n",
      "\u001b[1;31mValueError\u001b[0m: Exception encountered when calling Sequential.call().\n\n\u001b[1mCannot take the length of shape with unknown rank.\u001b[0m\n\nArguments received by Sequential.call():\n  • inputs=tf.Tensor(shape=<unknown>, dtype=float32)\n  • training=False\n  • mask=None"
     ]
    }
   ],
   "source": [
    "test_loss,test_mae = model.evaluate(x_test,y_test,)\n",
    "print(f\"Test Mean Absolute Error: {test_mae:.2f}\")"
   ]
  },
  {
   "cell_type": "code",
   "execution_count": null,
   "id": "b78f4c83",
   "metadata": {},
   "outputs": [],
   "source": []
  }
 ],
 "metadata": {
  "kernelspec": {
   "display_name": "Python 3 (ipykernel)",
   "language": "python",
   "name": "python3"
  },
  "language_info": {
   "codemirror_mode": {
    "name": "ipython",
    "version": 3
   },
   "file_extension": ".py",
   "mimetype": "text/x-python",
   "name": "python",
   "nbconvert_exporter": "python",
   "pygments_lexer": "ipython3",
   "version": "3.11.5"
  }
 },
 "nbformat": 4,
 "nbformat_minor": 5
}
